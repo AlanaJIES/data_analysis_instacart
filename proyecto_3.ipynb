{
 "cells": [
  {
   "cell_type": "markdown",
   "id": "3Xg_RQfnafXz",
   "metadata": {
    "id": "3Xg_RQfnafXz"
   },
   "source": [
    "# ¡Llena ese carrito!"
   ]
  },
  {
   "cell_type": "markdown",
   "id": "mhIvmmkW414q",
   "metadata": {
    "id": "mhIvmmkW414q"
   },
   "source": [
    "# Introducción\n",
    "\n",
    "Instacart es una plataforma de entregas de comestibles donde la clientela puede registrar un pedido y hacer que se lo entreguen, similar a Uber Eats y Door Dash.\n",
    "El conjunto de datos que te hemos proporcionado tiene modificaciones del original. Redujimos el tamaño del conjunto para que tus cálculos se hicieran más rápido e introdujimos valores ausentes y duplicados. Tuvimos cuidado de conservar las distribuciones de los datos originales cuando hicimos los cambios.\n",
    "\n",
    "Debes completar tres pasos. Para cada uno de ellos, escribe una breve introducción que refleje con claridad cómo pretendes resolver cada paso, y escribe párrafos explicatorios que justifiquen tus decisiones al tiempo que avanzas en tu solución.  También escribe una conclusión que resuma tus hallazgos y elecciones.\n"
   ]
  },
  {
   "cell_type": "markdown",
   "id": "3MbyzpOQZ5Or",
   "metadata": {
    "id": "3MbyzpOQZ5Or"
   },
   "source": [
    "## Diccionario de datos\n",
    "\n",
    "Hay cinco tablas en el conjunto de datos, y tendrás que usarlas todas para hacer el preprocesamiento de datos y el análisis exploratorio de datos. A continuación se muestra un diccionario de datos que enumera las columnas de cada tabla y describe los datos que contienen.\n",
    "\n",
    "- `instacart_orders.csv`: cada fila corresponde a un pedido en la aplicación Instacart.\n",
    "    - `'order_id'`: número de ID que identifica de manera única cada pedido.\n",
    "    - `'user_id'`: número de ID que identifica de manera única la cuenta de cada cliente.\n",
    "    - `'order_number'`: el número de veces que este cliente ha hecho un pedido.\n",
    "    - `'order_dow'`: día de la semana en que se hizo el pedido (0 si es domingo).\n",
    "    - `'order_hour_of_day'`: hora del día en que se hizo el pedido.\n",
    "    - `'days_since_prior_order'`: número de días transcurridos desde que este cliente hizo su pedido anterior.\n",
    "- `products.csv`: cada fila corresponde a un producto único que pueden comprar los clientes.\n",
    "    - `'product_id'`: número ID que identifica de manera única cada producto.\n",
    "    - `'product_name'`: nombre del producto.\n",
    "    - `'aisle_id'`: número ID que identifica de manera única cada categoría de pasillo de víveres.\n",
    "    - `'department_id'`: número ID que identifica de manera única cada departamento de víveres.\n",
    "- `order_products.csv`: cada fila corresponde a un artículo pedido en un pedido.\n",
    "    - `'order_id'`: número de ID que identifica de manera única cada pedido.\n",
    "    - `'product_id'`: número ID que identifica de manera única cada producto.\n",
    "    - `'add_to_cart_order'`: el orden secuencial en el que se añadió cada artículo en el carrito.\n",
    "    - `'reordered'`: 0 si el cliente nunca ha pedido este producto antes, 1 si lo ha pedido.\n",
    "- `aisles.csv`\n",
    "    - `'aisle_id'`: número ID que identifica de manera única cada categoría de pasillo de víveres.\n",
    "    - `'aisle'`: nombre del pasillo.\n",
    "- `departments.csv`\n",
    "    - `'department_id'`: número ID que identifica de manera única cada departamento de víveres.\n",
    "    - `'department'`: nombre del departamento."
   ]
  },
  {
   "cell_type": "markdown",
   "id": "f98f159c",
   "metadata": {
    "id": "n3Ha_cNSZ8lK"
   },
   "source": [
    "# Paso 1. Descripción de los datos\n",
    "\n",
    "Leemos los archivos de datos (`/datasets/instacart_orders.csv`, `/datasets/products.csv`, `/datasets/aisles.csv`, `/datasets/departments.csv` y `/datasets/order_products.csv`) con `pd.read_csv()` usando los parámetros adecuados para leer los datos correctamente. Verificamos la información para cada DataFrame creado.\n"
   ]
  },
  {
   "cell_type": "markdown",
   "id": "13580ba6",
   "metadata": {
    "id": "OmlQPLlyaAfR"
   },
   "source": [
    "## Plan de solución\n",
    "\n",
    "Primero importamos la librería correspondiente, en este caso pandas. Luego de esto leemos los archivos \n",
    "como valores separados por comas (los archivos son csv, de acuerdo a la terminación de los mismos). \n",
    "Imprimimos las 5 primeras filas usando el método \"head()\" para verificar cual es el delimitador de estos archivos. \n",
    "Luego, de ser necesario, cambiamos el argumento del parámetro \"sep=\" por el delimitador correspondiente.\n",
    "Leemos la información general de los data frames usando el método \"info()\", observando la presencia de datos nulos y el tipo de datos que tenemos en los dataframes. "
   ]
  },
  {
   "cell_type": "code",
   "execution_count": 1,
   "id": "fbf1adab",
   "metadata": {
    "id": "fbf1adab"
   },
   "outputs": [],
   "source": [
    "# Importar librerías\n",
    "import pandas as pd"
   ]
  },
  {
   "cell_type": "code",
   "execution_count": 2,
   "id": "ad36396d",
   "metadata": {
    "id": "ad36396d"
   },
   "outputs": [],
   "source": [
    "# Leer conjuntos de datos en los DataFrames\n",
    "insta_ord = pd.read_csv(\"/datasets/instacart_orders.csv\", sep=';')\n",
    "\n",
    "prod = pd.read_csv(\"/datasets/products.csv\", sep=';')\n",
    "\n",
    "aisles = pd.read_csv(\"/datasets/aisles.csv\", sep=';')\n",
    "\n",
    "deps = pd.read_csv(\"/datasets/departments.csv\", sep=';')\n",
    "\n",
    "order_prod = pd.read_csv(\"/datasets/order_products.csv\", sep=';')"
   ]
  },
  {
   "cell_type": "code",
   "execution_count": 3,
   "id": "ad6a1efa",
   "metadata": {
    "id": "ad6a1efa"
   },
   "outputs": [
    {
     "data": {
      "text/html": [
       "<div>\n",
       "<style scoped>\n",
       "    .dataframe tbody tr th:only-of-type {\n",
       "        vertical-align: middle;\n",
       "    }\n",
       "\n",
       "    .dataframe tbody tr th {\n",
       "        vertical-align: top;\n",
       "    }\n",
       "\n",
       "    .dataframe thead th {\n",
       "        text-align: right;\n",
       "    }\n",
       "</style>\n",
       "<table border=\"1\" class=\"dataframe\">\n",
       "  <thead>\n",
       "    <tr style=\"text-align: right;\">\n",
       "      <th></th>\n",
       "      <th>order_id</th>\n",
       "      <th>user_id</th>\n",
       "      <th>order_number</th>\n",
       "      <th>order_dow</th>\n",
       "      <th>order_hour_of_day</th>\n",
       "      <th>days_since_prior_order</th>\n",
       "    </tr>\n",
       "  </thead>\n",
       "  <tbody>\n",
       "    <tr>\n",
       "      <th>0</th>\n",
       "      <td>1515936</td>\n",
       "      <td>183418</td>\n",
       "      <td>11</td>\n",
       "      <td>6</td>\n",
       "      <td>13</td>\n",
       "      <td>30.0</td>\n",
       "    </tr>\n",
       "    <tr>\n",
       "      <th>1</th>\n",
       "      <td>1690866</td>\n",
       "      <td>163593</td>\n",
       "      <td>5</td>\n",
       "      <td>5</td>\n",
       "      <td>12</td>\n",
       "      <td>9.0</td>\n",
       "    </tr>\n",
       "    <tr>\n",
       "      <th>2</th>\n",
       "      <td>1454967</td>\n",
       "      <td>39980</td>\n",
       "      <td>4</td>\n",
       "      <td>5</td>\n",
       "      <td>19</td>\n",
       "      <td>2.0</td>\n",
       "    </tr>\n",
       "    <tr>\n",
       "      <th>3</th>\n",
       "      <td>1768857</td>\n",
       "      <td>82516</td>\n",
       "      <td>56</td>\n",
       "      <td>0</td>\n",
       "      <td>20</td>\n",
       "      <td>10.0</td>\n",
       "    </tr>\n",
       "    <tr>\n",
       "      <th>4</th>\n",
       "      <td>3007858</td>\n",
       "      <td>196724</td>\n",
       "      <td>2</td>\n",
       "      <td>4</td>\n",
       "      <td>12</td>\n",
       "      <td>17.0</td>\n",
       "    </tr>\n",
       "    <tr>\n",
       "      <th>...</th>\n",
       "      <td>...</td>\n",
       "      <td>...</td>\n",
       "      <td>...</td>\n",
       "      <td>...</td>\n",
       "      <td>...</td>\n",
       "      <td>...</td>\n",
       "    </tr>\n",
       "    <tr>\n",
       "      <th>478962</th>\n",
       "      <td>3210681</td>\n",
       "      <td>5617</td>\n",
       "      <td>5</td>\n",
       "      <td>1</td>\n",
       "      <td>14</td>\n",
       "      <td>7.0</td>\n",
       "    </tr>\n",
       "    <tr>\n",
       "      <th>478963</th>\n",
       "      <td>3270802</td>\n",
       "      <td>112087</td>\n",
       "      <td>2</td>\n",
       "      <td>3</td>\n",
       "      <td>13</td>\n",
       "      <td>6.0</td>\n",
       "    </tr>\n",
       "    <tr>\n",
       "      <th>478964</th>\n",
       "      <td>885349</td>\n",
       "      <td>82944</td>\n",
       "      <td>16</td>\n",
       "      <td>2</td>\n",
       "      <td>11</td>\n",
       "      <td>6.0</td>\n",
       "    </tr>\n",
       "    <tr>\n",
       "      <th>478965</th>\n",
       "      <td>216274</td>\n",
       "      <td>4391</td>\n",
       "      <td>3</td>\n",
       "      <td>3</td>\n",
       "      <td>8</td>\n",
       "      <td>8.0</td>\n",
       "    </tr>\n",
       "    <tr>\n",
       "      <th>478966</th>\n",
       "      <td>2071924</td>\n",
       "      <td>1730</td>\n",
       "      <td>18</td>\n",
       "      <td>1</td>\n",
       "      <td>14</td>\n",
       "      <td>15.0</td>\n",
       "    </tr>\n",
       "  </tbody>\n",
       "</table>\n",
       "<p>478967 rows × 6 columns</p>\n",
       "</div>"
      ],
      "text/plain": [
       "        order_id  user_id  order_number  order_dow  order_hour_of_day  \\\n",
       "0        1515936   183418            11          6                 13   \n",
       "1        1690866   163593             5          5                 12   \n",
       "2        1454967    39980             4          5                 19   \n",
       "3        1768857    82516            56          0                 20   \n",
       "4        3007858   196724             2          4                 12   \n",
       "...          ...      ...           ...        ...                ...   \n",
       "478962   3210681     5617             5          1                 14   \n",
       "478963   3270802   112087             2          3                 13   \n",
       "478964    885349    82944            16          2                 11   \n",
       "478965    216274     4391             3          3                  8   \n",
       "478966   2071924     1730            18          1                 14   \n",
       "\n",
       "        days_since_prior_order  \n",
       "0                         30.0  \n",
       "1                          9.0  \n",
       "2                          2.0  \n",
       "3                         10.0  \n",
       "4                         17.0  \n",
       "...                        ...  \n",
       "478962                     7.0  \n",
       "478963                     6.0  \n",
       "478964                     6.0  \n",
       "478965                     8.0  \n",
       "478966                    15.0  \n",
       "\n",
       "[478967 rows x 6 columns]"
      ]
     },
     "metadata": {},
     "output_type": "display_data"
    },
    {
     "name": "stdout",
     "output_type": "stream",
     "text": [
      "<class 'pandas.core.frame.DataFrame'>\n",
      "RangeIndex: 478967 entries, 0 to 478966\n",
      "Data columns (total 6 columns):\n",
      " #   Column                  Non-Null Count   Dtype  \n",
      "---  ------                  --------------   -----  \n",
      " 0   order_id                478967 non-null  int64  \n",
      " 1   user_id                 478967 non-null  int64  \n",
      " 2   order_number            478967 non-null  int64  \n",
      " 3   order_dow               478967 non-null  int64  \n",
      " 4   order_hour_of_day       478967 non-null  int64  \n",
      " 5   days_since_prior_order  450148 non-null  float64\n",
      "dtypes: float64(1), int64(5)\n",
      "memory usage: 21.9 MB\n"
     ]
    }
   ],
   "source": [
    "# Mostrar información del DataFrame\n",
    "display(insta_ord)\n",
    "insta_ord.info()"
   ]
  },
  {
   "cell_type": "code",
   "execution_count": 4,
   "id": "5130e05e",
   "metadata": {
    "id": "5130e05e"
   },
   "outputs": [
    {
     "data": {
      "text/html": [
       "<div>\n",
       "<style scoped>\n",
       "    .dataframe tbody tr th:only-of-type {\n",
       "        vertical-align: middle;\n",
       "    }\n",
       "\n",
       "    .dataframe tbody tr th {\n",
       "        vertical-align: top;\n",
       "    }\n",
       "\n",
       "    .dataframe thead th {\n",
       "        text-align: right;\n",
       "    }\n",
       "</style>\n",
       "<table border=\"1\" class=\"dataframe\">\n",
       "  <thead>\n",
       "    <tr style=\"text-align: right;\">\n",
       "      <th></th>\n",
       "      <th>product_id</th>\n",
       "      <th>product_name</th>\n",
       "      <th>aisle_id</th>\n",
       "      <th>department_id</th>\n",
       "    </tr>\n",
       "  </thead>\n",
       "  <tbody>\n",
       "    <tr>\n",
       "      <th>0</th>\n",
       "      <td>1</td>\n",
       "      <td>Chocolate Sandwich Cookies</td>\n",
       "      <td>61</td>\n",
       "      <td>19</td>\n",
       "    </tr>\n",
       "    <tr>\n",
       "      <th>1</th>\n",
       "      <td>2</td>\n",
       "      <td>All-Seasons Salt</td>\n",
       "      <td>104</td>\n",
       "      <td>13</td>\n",
       "    </tr>\n",
       "    <tr>\n",
       "      <th>2</th>\n",
       "      <td>3</td>\n",
       "      <td>Robust Golden Unsweetened Oolong Tea</td>\n",
       "      <td>94</td>\n",
       "      <td>7</td>\n",
       "    </tr>\n",
       "    <tr>\n",
       "      <th>3</th>\n",
       "      <td>4</td>\n",
       "      <td>Smart Ones Classic Favorites Mini Rigatoni Wit...</td>\n",
       "      <td>38</td>\n",
       "      <td>1</td>\n",
       "    </tr>\n",
       "    <tr>\n",
       "      <th>4</th>\n",
       "      <td>5</td>\n",
       "      <td>Green Chile Anytime Sauce</td>\n",
       "      <td>5</td>\n",
       "      <td>13</td>\n",
       "    </tr>\n",
       "    <tr>\n",
       "      <th>...</th>\n",
       "      <td>...</td>\n",
       "      <td>...</td>\n",
       "      <td>...</td>\n",
       "      <td>...</td>\n",
       "    </tr>\n",
       "    <tr>\n",
       "      <th>49689</th>\n",
       "      <td>49690</td>\n",
       "      <td>HIGH PERFORMANCE ENERGY DRINK</td>\n",
       "      <td>64</td>\n",
       "      <td>7</td>\n",
       "    </tr>\n",
       "    <tr>\n",
       "      <th>49690</th>\n",
       "      <td>49691</td>\n",
       "      <td>ORIGINAL PANCAKE &amp; WAFFLE MIX</td>\n",
       "      <td>130</td>\n",
       "      <td>14</td>\n",
       "    </tr>\n",
       "    <tr>\n",
       "      <th>49691</th>\n",
       "      <td>49692</td>\n",
       "      <td>ORGANIC INSTANT OATMEAL LIGHT MAPLE BROWN SUGAR</td>\n",
       "      <td>130</td>\n",
       "      <td>14</td>\n",
       "    </tr>\n",
       "    <tr>\n",
       "      <th>49692</th>\n",
       "      <td>49693</td>\n",
       "      <td>SPRING WATER BODY WASH</td>\n",
       "      <td>127</td>\n",
       "      <td>11</td>\n",
       "    </tr>\n",
       "    <tr>\n",
       "      <th>49693</th>\n",
       "      <td>49694</td>\n",
       "      <td>BURRITO- STEAK &amp; CHEESE</td>\n",
       "      <td>38</td>\n",
       "      <td>1</td>\n",
       "    </tr>\n",
       "  </tbody>\n",
       "</table>\n",
       "<p>49694 rows × 4 columns</p>\n",
       "</div>"
      ],
      "text/plain": [
       "       product_id                                       product_name  \\\n",
       "0               1                         Chocolate Sandwich Cookies   \n",
       "1               2                                   All-Seasons Salt   \n",
       "2               3               Robust Golden Unsweetened Oolong Tea   \n",
       "3               4  Smart Ones Classic Favorites Mini Rigatoni Wit...   \n",
       "4               5                          Green Chile Anytime Sauce   \n",
       "...           ...                                                ...   \n",
       "49689       49690                      HIGH PERFORMANCE ENERGY DRINK   \n",
       "49690       49691                      ORIGINAL PANCAKE & WAFFLE MIX   \n",
       "49691       49692    ORGANIC INSTANT OATMEAL LIGHT MAPLE BROWN SUGAR   \n",
       "49692       49693                             SPRING WATER BODY WASH   \n",
       "49693       49694                            BURRITO- STEAK & CHEESE   \n",
       "\n",
       "       aisle_id  department_id  \n",
       "0            61             19  \n",
       "1           104             13  \n",
       "2            94              7  \n",
       "3            38              1  \n",
       "4             5             13  \n",
       "...         ...            ...  \n",
       "49689        64              7  \n",
       "49690       130             14  \n",
       "49691       130             14  \n",
       "49692       127             11  \n",
       "49693        38              1  \n",
       "\n",
       "[49694 rows x 4 columns]"
      ]
     },
     "metadata": {},
     "output_type": "display_data"
    },
    {
     "name": "stdout",
     "output_type": "stream",
     "text": [
      "<class 'pandas.core.frame.DataFrame'>\n",
      "RangeIndex: 49694 entries, 0 to 49693\n",
      "Data columns (total 4 columns):\n",
      " #   Column         Non-Null Count  Dtype \n",
      "---  ------         --------------  ----- \n",
      " 0   product_id     49694 non-null  int64 \n",
      " 1   product_name   48436 non-null  object\n",
      " 2   aisle_id       49694 non-null  int64 \n",
      " 3   department_id  49694 non-null  int64 \n",
      "dtypes: int64(3), object(1)\n",
      "memory usage: 1.5+ MB\n"
     ]
    }
   ],
   "source": [
    "# Mostrar información del DataFrame\n",
    "display(prod)\n",
    "prod.info()"
   ]
  },
  {
   "cell_type": "code",
   "execution_count": 5,
   "id": "d8370c05",
   "metadata": {
    "id": "d8370c05"
   },
   "outputs": [
    {
     "data": {
      "text/html": [
       "<div>\n",
       "<style scoped>\n",
       "    .dataframe tbody tr th:only-of-type {\n",
       "        vertical-align: middle;\n",
       "    }\n",
       "\n",
       "    .dataframe tbody tr th {\n",
       "        vertical-align: top;\n",
       "    }\n",
       "\n",
       "    .dataframe thead th {\n",
       "        text-align: right;\n",
       "    }\n",
       "</style>\n",
       "<table border=\"1\" class=\"dataframe\">\n",
       "  <thead>\n",
       "    <tr style=\"text-align: right;\">\n",
       "      <th></th>\n",
       "      <th>aisle_id</th>\n",
       "      <th>aisle</th>\n",
       "    </tr>\n",
       "  </thead>\n",
       "  <tbody>\n",
       "    <tr>\n",
       "      <th>0</th>\n",
       "      <td>1</td>\n",
       "      <td>prepared soups salads</td>\n",
       "    </tr>\n",
       "    <tr>\n",
       "      <th>1</th>\n",
       "      <td>2</td>\n",
       "      <td>specialty cheeses</td>\n",
       "    </tr>\n",
       "    <tr>\n",
       "      <th>2</th>\n",
       "      <td>3</td>\n",
       "      <td>energy granola bars</td>\n",
       "    </tr>\n",
       "    <tr>\n",
       "      <th>3</th>\n",
       "      <td>4</td>\n",
       "      <td>instant foods</td>\n",
       "    </tr>\n",
       "    <tr>\n",
       "      <th>4</th>\n",
       "      <td>5</td>\n",
       "      <td>marinades meat preparation</td>\n",
       "    </tr>\n",
       "    <tr>\n",
       "      <th>...</th>\n",
       "      <td>...</td>\n",
       "      <td>...</td>\n",
       "    </tr>\n",
       "    <tr>\n",
       "      <th>129</th>\n",
       "      <td>130</td>\n",
       "      <td>hot cereal pancake mixes</td>\n",
       "    </tr>\n",
       "    <tr>\n",
       "      <th>130</th>\n",
       "      <td>131</td>\n",
       "      <td>dry pasta</td>\n",
       "    </tr>\n",
       "    <tr>\n",
       "      <th>131</th>\n",
       "      <td>132</td>\n",
       "      <td>beauty</td>\n",
       "    </tr>\n",
       "    <tr>\n",
       "      <th>132</th>\n",
       "      <td>133</td>\n",
       "      <td>muscles joints pain relief</td>\n",
       "    </tr>\n",
       "    <tr>\n",
       "      <th>133</th>\n",
       "      <td>134</td>\n",
       "      <td>specialty wines champagnes</td>\n",
       "    </tr>\n",
       "  </tbody>\n",
       "</table>\n",
       "<p>134 rows × 2 columns</p>\n",
       "</div>"
      ],
      "text/plain": [
       "     aisle_id                       aisle\n",
       "0           1       prepared soups salads\n",
       "1           2           specialty cheeses\n",
       "2           3         energy granola bars\n",
       "3           4               instant foods\n",
       "4           5  marinades meat preparation\n",
       "..        ...                         ...\n",
       "129       130    hot cereal pancake mixes\n",
       "130       131                   dry pasta\n",
       "131       132                      beauty\n",
       "132       133  muscles joints pain relief\n",
       "133       134  specialty wines champagnes\n",
       "\n",
       "[134 rows x 2 columns]"
      ]
     },
     "metadata": {},
     "output_type": "display_data"
    },
    {
     "name": "stdout",
     "output_type": "stream",
     "text": [
      "<class 'pandas.core.frame.DataFrame'>\n",
      "RangeIndex: 134 entries, 0 to 133\n",
      "Data columns (total 2 columns):\n",
      " #   Column    Non-Null Count  Dtype \n",
      "---  ------    --------------  ----- \n",
      " 0   aisle_id  134 non-null    int64 \n",
      " 1   aisle     134 non-null    object\n",
      "dtypes: int64(1), object(1)\n",
      "memory usage: 2.2+ KB\n"
     ]
    }
   ],
   "source": [
    "# Mostrar información del DataFrame\n",
    "display(aisles)\n",
    "aisles.info()"
   ]
  },
  {
   "cell_type": "code",
   "execution_count": 6,
   "id": "59e2090f",
   "metadata": {
    "id": "59e2090f"
   },
   "outputs": [
    {
     "data": {
      "text/html": [
       "<div>\n",
       "<style scoped>\n",
       "    .dataframe tbody tr th:only-of-type {\n",
       "        vertical-align: middle;\n",
       "    }\n",
       "\n",
       "    .dataframe tbody tr th {\n",
       "        vertical-align: top;\n",
       "    }\n",
       "\n",
       "    .dataframe thead th {\n",
       "        text-align: right;\n",
       "    }\n",
       "</style>\n",
       "<table border=\"1\" class=\"dataframe\">\n",
       "  <thead>\n",
       "    <tr style=\"text-align: right;\">\n",
       "      <th></th>\n",
       "      <th>department_id</th>\n",
       "      <th>department</th>\n",
       "    </tr>\n",
       "  </thead>\n",
       "  <tbody>\n",
       "    <tr>\n",
       "      <th>0</th>\n",
       "      <td>1</td>\n",
       "      <td>frozen</td>\n",
       "    </tr>\n",
       "    <tr>\n",
       "      <th>1</th>\n",
       "      <td>2</td>\n",
       "      <td>other</td>\n",
       "    </tr>\n",
       "    <tr>\n",
       "      <th>2</th>\n",
       "      <td>3</td>\n",
       "      <td>bakery</td>\n",
       "    </tr>\n",
       "    <tr>\n",
       "      <th>3</th>\n",
       "      <td>4</td>\n",
       "      <td>produce</td>\n",
       "    </tr>\n",
       "    <tr>\n",
       "      <th>4</th>\n",
       "      <td>5</td>\n",
       "      <td>alcohol</td>\n",
       "    </tr>\n",
       "    <tr>\n",
       "      <th>5</th>\n",
       "      <td>6</td>\n",
       "      <td>international</td>\n",
       "    </tr>\n",
       "    <tr>\n",
       "      <th>6</th>\n",
       "      <td>7</td>\n",
       "      <td>beverages</td>\n",
       "    </tr>\n",
       "    <tr>\n",
       "      <th>7</th>\n",
       "      <td>8</td>\n",
       "      <td>pets</td>\n",
       "    </tr>\n",
       "    <tr>\n",
       "      <th>8</th>\n",
       "      <td>9</td>\n",
       "      <td>dry goods pasta</td>\n",
       "    </tr>\n",
       "    <tr>\n",
       "      <th>9</th>\n",
       "      <td>10</td>\n",
       "      <td>bulk</td>\n",
       "    </tr>\n",
       "    <tr>\n",
       "      <th>10</th>\n",
       "      <td>11</td>\n",
       "      <td>personal care</td>\n",
       "    </tr>\n",
       "    <tr>\n",
       "      <th>11</th>\n",
       "      <td>12</td>\n",
       "      <td>meat seafood</td>\n",
       "    </tr>\n",
       "    <tr>\n",
       "      <th>12</th>\n",
       "      <td>13</td>\n",
       "      <td>pantry</td>\n",
       "    </tr>\n",
       "    <tr>\n",
       "      <th>13</th>\n",
       "      <td>14</td>\n",
       "      <td>breakfast</td>\n",
       "    </tr>\n",
       "    <tr>\n",
       "      <th>14</th>\n",
       "      <td>15</td>\n",
       "      <td>canned goods</td>\n",
       "    </tr>\n",
       "    <tr>\n",
       "      <th>15</th>\n",
       "      <td>16</td>\n",
       "      <td>dairy eggs</td>\n",
       "    </tr>\n",
       "    <tr>\n",
       "      <th>16</th>\n",
       "      <td>17</td>\n",
       "      <td>household</td>\n",
       "    </tr>\n",
       "    <tr>\n",
       "      <th>17</th>\n",
       "      <td>18</td>\n",
       "      <td>babies</td>\n",
       "    </tr>\n",
       "    <tr>\n",
       "      <th>18</th>\n",
       "      <td>19</td>\n",
       "      <td>snacks</td>\n",
       "    </tr>\n",
       "    <tr>\n",
       "      <th>19</th>\n",
       "      <td>20</td>\n",
       "      <td>deli</td>\n",
       "    </tr>\n",
       "    <tr>\n",
       "      <th>20</th>\n",
       "      <td>21</td>\n",
       "      <td>missing</td>\n",
       "    </tr>\n",
       "  </tbody>\n",
       "</table>\n",
       "</div>"
      ],
      "text/plain": [
       "    department_id       department\n",
       "0               1           frozen\n",
       "1               2            other\n",
       "2               3           bakery\n",
       "3               4          produce\n",
       "4               5          alcohol\n",
       "5               6    international\n",
       "6               7        beverages\n",
       "7               8             pets\n",
       "8               9  dry goods pasta\n",
       "9              10             bulk\n",
       "10             11    personal care\n",
       "11             12     meat seafood\n",
       "12             13           pantry\n",
       "13             14        breakfast\n",
       "14             15     canned goods\n",
       "15             16       dairy eggs\n",
       "16             17        household\n",
       "17             18           babies\n",
       "18             19           snacks\n",
       "19             20             deli\n",
       "20             21          missing"
      ]
     },
     "metadata": {},
     "output_type": "display_data"
    },
    {
     "name": "stdout",
     "output_type": "stream",
     "text": [
      "<class 'pandas.core.frame.DataFrame'>\n",
      "RangeIndex: 21 entries, 0 to 20\n",
      "Data columns (total 2 columns):\n",
      " #   Column         Non-Null Count  Dtype \n",
      "---  ------         --------------  ----- \n",
      " 0   department_id  21 non-null     int64 \n",
      " 1   department     21 non-null     object\n",
      "dtypes: int64(1), object(1)\n",
      "memory usage: 464.0+ bytes\n"
     ]
    }
   ],
   "source": [
    "# Mostrar información del DataFrame\n",
    "display(deps)\n",
    "deps.info()"
   ]
  },
  {
   "cell_type": "code",
   "execution_count": 7,
   "id": "6fc81694",
   "metadata": {
    "id": "6fc81694"
   },
   "outputs": [
    {
     "data": {
      "text/html": [
       "<div>\n",
       "<style scoped>\n",
       "    .dataframe tbody tr th:only-of-type {\n",
       "        vertical-align: middle;\n",
       "    }\n",
       "\n",
       "    .dataframe tbody tr th {\n",
       "        vertical-align: top;\n",
       "    }\n",
       "\n",
       "    .dataframe thead th {\n",
       "        text-align: right;\n",
       "    }\n",
       "</style>\n",
       "<table border=\"1\" class=\"dataframe\">\n",
       "  <thead>\n",
       "    <tr style=\"text-align: right;\">\n",
       "      <th></th>\n",
       "      <th>order_id</th>\n",
       "      <th>product_id</th>\n",
       "      <th>add_to_cart_order</th>\n",
       "      <th>reordered</th>\n",
       "    </tr>\n",
       "  </thead>\n",
       "  <tbody>\n",
       "    <tr>\n",
       "      <th>0</th>\n",
       "      <td>2141543</td>\n",
       "      <td>11440</td>\n",
       "      <td>17.0</td>\n",
       "      <td>0</td>\n",
       "    </tr>\n",
       "    <tr>\n",
       "      <th>1</th>\n",
       "      <td>567889</td>\n",
       "      <td>1560</td>\n",
       "      <td>1.0</td>\n",
       "      <td>1</td>\n",
       "    </tr>\n",
       "    <tr>\n",
       "      <th>2</th>\n",
       "      <td>2261212</td>\n",
       "      <td>26683</td>\n",
       "      <td>1.0</td>\n",
       "      <td>1</td>\n",
       "    </tr>\n",
       "    <tr>\n",
       "      <th>3</th>\n",
       "      <td>491251</td>\n",
       "      <td>8670</td>\n",
       "      <td>35.0</td>\n",
       "      <td>1</td>\n",
       "    </tr>\n",
       "    <tr>\n",
       "      <th>4</th>\n",
       "      <td>2571142</td>\n",
       "      <td>1940</td>\n",
       "      <td>5.0</td>\n",
       "      <td>1</td>\n",
       "    </tr>\n",
       "    <tr>\n",
       "      <th>...</th>\n",
       "      <td>...</td>\n",
       "      <td>...</td>\n",
       "      <td>...</td>\n",
       "      <td>...</td>\n",
       "    </tr>\n",
       "    <tr>\n",
       "      <th>4545002</th>\n",
       "      <td>577211</td>\n",
       "      <td>15290</td>\n",
       "      <td>12.0</td>\n",
       "      <td>1</td>\n",
       "    </tr>\n",
       "    <tr>\n",
       "      <th>4545003</th>\n",
       "      <td>1219554</td>\n",
       "      <td>21914</td>\n",
       "      <td>9.0</td>\n",
       "      <td>0</td>\n",
       "    </tr>\n",
       "    <tr>\n",
       "      <th>4545004</th>\n",
       "      <td>692640</td>\n",
       "      <td>47766</td>\n",
       "      <td>4.0</td>\n",
       "      <td>1</td>\n",
       "    </tr>\n",
       "    <tr>\n",
       "      <th>4545005</th>\n",
       "      <td>319435</td>\n",
       "      <td>691</td>\n",
       "      <td>8.0</td>\n",
       "      <td>1</td>\n",
       "    </tr>\n",
       "    <tr>\n",
       "      <th>4545006</th>\n",
       "      <td>1398151</td>\n",
       "      <td>28733</td>\n",
       "      <td>9.0</td>\n",
       "      <td>0</td>\n",
       "    </tr>\n",
       "  </tbody>\n",
       "</table>\n",
       "<p>4545007 rows × 4 columns</p>\n",
       "</div>"
      ],
      "text/plain": [
       "         order_id  product_id  add_to_cart_order  reordered\n",
       "0         2141543       11440               17.0          0\n",
       "1          567889        1560                1.0          1\n",
       "2         2261212       26683                1.0          1\n",
       "3          491251        8670               35.0          1\n",
       "4         2571142        1940                5.0          1\n",
       "...           ...         ...                ...        ...\n",
       "4545002    577211       15290               12.0          1\n",
       "4545003   1219554       21914                9.0          0\n",
       "4545004    692640       47766                4.0          1\n",
       "4545005    319435         691                8.0          1\n",
       "4545006   1398151       28733                9.0          0\n",
       "\n",
       "[4545007 rows x 4 columns]"
      ]
     },
     "metadata": {},
     "output_type": "display_data"
    },
    {
     "name": "stdout",
     "output_type": "stream",
     "text": [
      "<class 'pandas.core.frame.DataFrame'>\n",
      "RangeIndex: 4545007 entries, 0 to 4545006\n",
      "Data columns (total 4 columns):\n",
      " #   Column             Non-Null Count    Dtype  \n",
      "---  ------             --------------    -----  \n",
      " 0   order_id           4545007 non-null  int64  \n",
      " 1   product_id         4545007 non-null  int64  \n",
      " 2   add_to_cart_order  4544171 non-null  float64\n",
      " 3   reordered          4545007 non-null  int64  \n",
      "dtypes: float64(1), int64(3)\n",
      "memory usage: 138.7 MB\n"
     ]
    }
   ],
   "source": [
    "# Mostrar información del DataFrame\n",
    "display(order_prod)\n",
    "order_prod.info(show_counts=True)"
   ]
  },
  {
   "cell_type": "markdown",
   "id": "t75BD19oaR5f",
   "metadata": {
    "id": "t75BD19oaR5f"
   },
   "source": [
    "## Conclusiones\n",
    "\n",
    "Se importo la librería, se leyeron los data frames y se mostraron tomando en consideracion que el delimitador de todos los archivos es \";\". Los titulos de las columnas concuerdan con el diccionario de datos, por lo que no se considero necesario cambiar los titulos por otros más concisos. \n",
    "\n",
    "Ahora con los archivos:\n",
    "\n",
    "En el archivo instacart_orders.csv encontramos que la columna \"days_since_prior_order\" posee datos nulos. Este último tiene datos tipo \"float\", lo cual podria estar relacionado con la presencia de los datos nulos.\n",
    "\n",
    "En el archivo products.csv encontramos que la columna \"product_name\" posee datos nulos. Este posee datos tipo \"object\", son los nombres de los productos.\n",
    "\n",
    "En el archivo order_products.csv, encontramos que la columna \"add_to_cart_order\" posee datos nulos. Este último tiene datos tipo \"float\", lo cual podria estar relacionado con la presencia de los datos nulos.\n",
    "\n",
    "Los datos de las demás columnas son enteros u objetos, dependiendo de la naturaleza de los mismos (si son numericos, como los ID, o nombres, de los departamentos y pasillos)."
   ]
  },
  {
   "cell_type": "markdown",
   "id": "8RJHqxVmaVsF",
   "metadata": {
    "id": "8RJHqxVmaVsF"
   },
   "source": [
    "# Paso 2. Preprocesamiento de los datos\n",
    "\n",
    "Preprocesamos los datos de la siguiente manera:\n",
    "\n",
    "- Verificar y corrigir los tipos de datos.\n",
    "- Identificar y completar los valores ausentes.\n",
    "- Identificar y eliminar los valores duplicados."
   ]
  },
  {
   "cell_type": "markdown",
   "id": "p6poABZQaZYb",
   "metadata": {
    "id": "p6poABZQaZYb"
   },
   "source": [
    "## Plan de solución\n",
    "\n",
    "En el paso anterior, usando \"info()\", se observo el tipo de datos de los dataframes. Los datos tipo float podrían ser transformados en enteros, luego de identificar los valores ausentes y determinar la razón de los mismos. Esto podría hacerse con \"astype()\", siempre y cuando se haya verificado usando la función \"array_equal()\" de la librería numpy. \n",
    "\n",
    "La identificacion de los valores ausentes se hará principalmente usando \"isna()\", \"dropna()\" y/o \"fillna()\", dependiendo de las circunstancias.\n",
    "\n",
    "Los valores duplicados se eliminaran si son filas completas y se analizara con mayor detalle si son en determinadas columnas. Se usaran los métodos \"duplicated().sum()\", \"value_counts()\"\n"
   ]
  },
  {
   "cell_type": "markdown",
   "id": "07357848-dc64-4156-9cc3-01ff4365226d",
   "metadata": {
    "id": "07357848-dc64-4156-9cc3-01ff4365226d"
   },
   "source": [
    "## Encuentrar y eliminar los valores duplicados."
   ]
  },
  {
   "cell_type": "markdown",
   "id": "f179f0a9",
   "metadata": {
    "id": "f179f0a9"
   },
   "source": [
    "### `orders` data frame"
   ]
  },
  {
   "cell_type": "code",
   "execution_count": 8,
   "id": "b99297a5-405a-463d-8535-9adc3da4ad74",
   "metadata": {
    "id": "b99297a5-405a-463d-8535-9adc3da4ad74",
    "scrolled": false
   },
   "outputs": [
    {
     "data": {
      "text/plain": [
       "15"
      ]
     },
     "metadata": {},
     "output_type": "display_data"
    },
    {
     "data": {
      "text/plain": [
       "2125197    2\n",
       "1782114    2\n",
       "1286742    2\n",
       "391768     2\n",
       "1021560    2\n",
       "2232988    2\n",
       "408114     2\n",
       "2282673    2\n",
       "1919531    2\n",
       "2160484    2\n",
       "1918001    2\n",
       "794638     2\n",
       "1112182    2\n",
       "467134     2\n",
       "2845099    2\n",
       "2357032    1\n",
       "Name: order_id, dtype: int64"
      ]
     },
     "metadata": {},
     "output_type": "display_data"
    },
    {
     "data": {
      "text/plain": [
       "order_id  user_id  order_number  order_dow  order_hour_of_day  days_since_prior_order\n",
       "1021560   53767    3             3          2                  9.0                       2\n",
       "467134    63189    21            3          2                  2.0                       2\n",
       "391768    57671    19            3          2                  10.0                      2\n",
       "2282673   86751    49            3          2                  2.0                       2\n",
       "408114    68324    4             3          2                  18.0                      2\n",
       "1918001   188546   14            3          2                  16.0                      2\n",
       "1286742   183220   48            3          2                  4.0                       2\n",
       "1112182   202304   84            3          2                  6.0                       2\n",
       "2845099   31189    11            3          2                  7.0                       2\n",
       "1919531   191501   32            3          2                  7.0                       2\n",
       "2125197   14050    48            3          2                  3.0                       2\n",
       "794638    50898    24            3          2                  2.0                       2\n",
       "2160484   107525   16            3          2                  30.0                      2\n",
       "2278962   188803   4             5          14                 0.0                       1\n",
       "2278951   83592    13            5          10                 7.0                       1\n",
       "2278978   72281    21            3          16                 7.0                       1\n",
       "dtype: int64"
      ]
     },
     "metadata": {},
     "output_type": "display_data"
    },
    {
     "data": {
      "text/plain": [
       "order_id  user_id  order_number  order_dow  order_hour_of_day  days_since_prior_order\n",
       "794638    50898    24            3          2                  2.0                       2\n",
       "1919531   191501   32            3          2                  7.0                       2\n",
       "2845099   31189    11            3          2                  7.0                       2\n",
       "467134    63189    21            3          2                  2.0                       2\n",
       "1112182   202304   84            3          2                  6.0                       2\n",
       "408114    68324    4             3          2                  18.0                      2\n",
       "1286742   183220   48            3          2                  4.0                       2\n",
       "391768    57671    19            3          2                  10.0                      2\n",
       "1021560   53767    3             3          2                  9.0                       2\n",
       "1918001   188546   14            3          2                  16.0                      2\n",
       "2160484   107525   16            3          2                  30.0                      2\n",
       "2282673   86751    49            3          2                  2.0                       2\n",
       "2125197   14050    48            3          2                  3.0                       2\n",
       "2061573   113852   11            3          2                  23.0                      1\n",
       "2132617   188324   12            3          2                  16.0                      1\n",
       "2190225   138285   18            3          2                  11.0                      1\n",
       "dtype: int64"
      ]
     },
     "metadata": {},
     "output_type": "display_data"
    }
   ],
   "source": [
    "# Revisar si hay pedidos duplicados\n",
    "\n",
    "display(insta_ord.duplicated().sum())\n",
    "display(insta_ord[\"order_id\"].value_counts().head(16))\n",
    "display(insta_ord.value_counts().head(16))\n",
    "insta_ord[insta_ord[\"order_id\"] == 2125197]\n",
    "insta_ord[insta_ord[\"order_id\"] == 1782114]\n",
    "display(insta_ord[(insta_ord[\"order_hour_of_day\"] == 2) & (\n",
    "    insta_ord[\"order_dow\"] == 3)].value_counts().head(16))"
   ]
  },
  {
   "cell_type": "markdown",
   "id": "99baeba4",
   "metadata": {
    "id": "0d44de5d"
   },
   "source": [
    "Si existen lineas duplicadas. Las 15 ocurrieron un miércoles a las 2:00 a.m. Esto sugiere que debio ocurrir un error en la aplicación, generando estos duplicados por accidente."
   ]
  },
  {
   "cell_type": "code",
   "execution_count": 9,
   "id": "480563c7",
   "metadata": {
    "id": "480563c7"
   },
   "outputs": [],
   "source": [
    "# Eliminar los pedidos duplicados\n",
    "insta_ord = insta_ord.drop_duplicates(subset=\"order_id\").reset_index(drop=True)"
   ]
  },
  {
   "cell_type": "code",
   "execution_count": 10,
   "id": "0b2396a2",
   "metadata": {
    "id": "0b2396a2"
   },
   "outputs": [
    {
     "data": {
      "text/plain": [
       "0"
      ]
     },
     "execution_count": 10,
     "metadata": {},
     "output_type": "execute_result"
    }
   ],
   "source": [
    "# Volver a verificar si hay filas duplicadas\n",
    "insta_ord.duplicated().sum()"
   ]
  },
  {
   "cell_type": "code",
   "execution_count": 11,
   "id": "f6113ef1",
   "metadata": {
    "id": "f6113ef1"
   },
   "outputs": [
    {
     "data": {
      "text/plain": [
       "1048576    1\n",
       "3389216    1\n",
       "1100604    1\n",
       "1275704    1\n",
       "2337103    1\n",
       "2301749    1\n",
       "1251124    1\n",
       "2175960    1\n",
       "3352370    1\n",
       "249647     1\n",
       "3407657    1\n",
       "2357032    1\n",
       "1290019    1\n",
       "1294113    1\n",
       "3295006    1\n",
       "1487677    1\n",
       "Name: order_id, dtype: int64"
      ]
     },
     "metadata": {},
     "output_type": "display_data"
    },
    {
     "data": {
      "text/plain": [
       "order_id  user_id  order_number  order_dow  order_hour_of_day  days_since_prior_order\n",
       "191       176417   44            3          2                  6.0                       1\n",
       "1983940   37173    4             3          2                  30.0                      1\n",
       "2291746   40940    7             3          2                  3.0                       1\n",
       "2282673   86751    49            3          2                  2.0                       1\n",
       "2218116   35918    9             3          2                  8.0                       1\n",
       "2190225   138285   18            3          2                  11.0                      1\n",
       "2160484   107525   16            3          2                  30.0                      1\n",
       "2132617   188324   12            3          2                  16.0                      1\n",
       "2125197   14050    48            3          2                  3.0                       1\n",
       "2061573   113852   11            3          2                  23.0                      1\n",
       "2027608   15574    8             3          2                  17.0                      1\n",
       "2025848   44593    6             3          2                  30.0                      1\n",
       "1958044   76767    2             3          2                  1.0                       1\n",
       "1496645   146418   6             3          2                  28.0                      1\n",
       "1919531   191501   32            3          2                  7.0                       1\n",
       "1918001   188546   14            3          2                  16.0                      1\n",
       "dtype: int64"
      ]
     },
     "metadata": {},
     "output_type": "display_data"
    }
   ],
   "source": [
    "# Volver a verificar únicamente si hay IDs duplicados de pedidos\n",
    "display(insta_ord[\"order_id\"].value_counts().head(16))\n",
    "display(insta_ord[(insta_ord[\"order_hour_of_day\"] == 2) & (\n",
    "    insta_ord[\"order_dow\"] == 3)].value_counts().head(16))"
   ]
  },
  {
   "cell_type": "markdown",
   "id": "5e8905ae",
   "metadata": {
    "id": "5e8905ae"
   },
   "source": [
    "Habia 15 filas duplicadas. Todas ocurrieron el miércoles a las 2 de la madrugada. Suponiendo un error de la aplicación que duplicó las ordenes, los duplicados fueron eliminados."
   ]
  },
  {
   "cell_type": "markdown",
   "id": "45e6bc46",
   "metadata": {
    "id": "45e6bc46"
   },
   "source": [
    "### `products` data frame"
   ]
  },
  {
   "cell_type": "code",
   "execution_count": 12,
   "id": "5f526b5b-8175-46fa-a0fd-441767d50e64",
   "metadata": {
    "id": "5f526b5b-8175-46fa-a0fd-441767d50e64"
   },
   "outputs": [
    {
     "data": {
      "text/plain": [
       "0"
      ]
     },
     "execution_count": 12,
     "metadata": {},
     "output_type": "execute_result"
    }
   ],
   "source": [
    "# Verificar si hay filas totalmente duplicadas\n",
    "prod.duplicated().sum()"
   ]
  },
  {
   "cell_type": "code",
   "execution_count": 13,
   "id": "88daa4f4",
   "metadata": {
    "id": "88daa4f4"
   },
   "outputs": [
    {
     "data": {
      "text/plain": [
       "0"
      ]
     },
     "execution_count": 13,
     "metadata": {},
     "output_type": "execute_result"
    }
   ],
   "source": [
    "# Verifica únicamente si hay IDs duplicadas de productos\n",
    "prod[\"product_id\"].duplicated().sum()"
   ]
  },
  {
   "cell_type": "code",
   "execution_count": 14,
   "id": "c773f0bf",
   "metadata": {
    "id": "c773f0bf"
   },
   "outputs": [
    {
     "data": {
      "text/plain": [
       "1361"
      ]
     },
     "execution_count": 14,
     "metadata": {},
     "output_type": "execute_result"
    }
   ],
   "source": [
    "# Revisar únicamente si hay nombres duplicados de productos\n",
    "prod[\"product_name\"] = prod[\"product_name\"].str.upper()\n",
    "prod[\"product_name\"].duplicated().sum()"
   ]
  },
  {
   "cell_type": "code",
   "execution_count": 15,
   "id": "01efd02e",
   "metadata": {
    "id": "01efd02e"
   },
   "outputs": [
    {
     "data": {
      "text/plain": [
       "0"
      ]
     },
     "metadata": {},
     "output_type": "display_data"
    },
    {
     "data": {
      "text/plain": [
       "0"
      ]
     },
     "metadata": {},
     "output_type": "display_data"
    }
   ],
   "source": [
    "# Revisar si hay nombres duplicados de productos no faltantes\n",
    "duplicated_not_null = prod[prod[\"product_name\"].duplicated(\n",
    "    keep=False) & prod[\"product_name\"].notnull()]\n",
    "display(duplicated_not_null.duplicated().sum())\n",
    "\n",
    "duplicated_and_not_null = prod[prod[\"product_name\"].duplicated(\n",
    ") & prod[\"product_name\"].notnull()]\n",
    "display(duplicated_and_not_null.duplicated().sum())"
   ]
  },
  {
   "cell_type": "markdown",
   "id": "9da8d293",
   "metadata": {
    "id": "9da8d293"
   },
   "source": [
    "Se buscaron filas duplicadas en el dataframe de products (prod). No se encontraron filas duplicadas, ni ID's duplicados de productos. \n",
    "En los nombres de los productos, si hay duplicados y estan relacionados con los valores ausentes. Esto lo observamos al verificar dos dataframes donde los datos ausentes no se encuentran pero en una mantenemos los datos duplicados y en en el otro no. En ambos dataframes no se observaron los datos nomres duplicados de productos. "
   ]
  },
  {
   "cell_type": "markdown",
   "id": "60f30db1",
   "metadata": {
    "id": "60f30db1"
   },
   "source": [
    "### `departments` data frame"
   ]
  },
  {
   "cell_type": "code",
   "execution_count": 16,
   "id": "fb410ad4-0fbf-4b80-bb09-23fdea79afe3",
   "metadata": {
    "id": "fb410ad4-0fbf-4b80-bb09-23fdea79afe3"
   },
   "outputs": [
    {
     "name": "stdout",
     "output_type": "stream",
     "text": [
      "0\n"
     ]
    }
   ],
   "source": [
    "# Revisar si hay filas totalmente duplicadas\n",
    "print(deps.duplicated().sum())"
   ]
  },
  {
   "cell_type": "code",
   "execution_count": 17,
   "id": "332b12bb",
   "metadata": {
    "id": "332b12bb"
   },
   "outputs": [
    {
     "name": "stdout",
     "output_type": "stream",
     "text": [
      "0\n"
     ]
    }
   ],
   "source": [
    "# Revisar únicamente si hay IDs duplicadas de productos\n",
    "print(deps[\"department_id\"].duplicated().sum())"
   ]
  },
  {
   "cell_type": "markdown",
   "id": "bd30d78e",
   "metadata": {
    "id": "bd30d78e"
   },
   "source": [
    "No se observaron duplicados, ni de filas ni de ID's. No se modificó el dataframe."
   ]
  },
  {
   "cell_type": "markdown",
   "id": "889349c1",
   "metadata": {
    "id": "889349c1"
   },
   "source": [
    "### `aisles` data frame"
   ]
  },
  {
   "cell_type": "code",
   "execution_count": 18,
   "id": "9da89fb9-4679-40f5-ad0d-c34df753a3f8",
   "metadata": {
    "id": "9da89fb9-4679-40f5-ad0d-c34df753a3f8"
   },
   "outputs": [
    {
     "name": "stdout",
     "output_type": "stream",
     "text": [
      "0\n"
     ]
    }
   ],
   "source": [
    "# Revisar si hay filas totalmente duplicadas\n",
    "print(aisles.duplicated().sum())"
   ]
  },
  {
   "cell_type": "code",
   "execution_count": 19,
   "id": "da7c2822",
   "metadata": {
    "id": "da7c2822"
   },
   "outputs": [
    {
     "name": "stdout",
     "output_type": "stream",
     "text": [
      "0\n"
     ]
    }
   ],
   "source": [
    "# Revisar únicamente si hay IDs duplicadas de productos\n",
    "print(aisles[\"aisle_id\"].duplicated().sum())"
   ]
  },
  {
   "cell_type": "markdown",
   "id": "ac63826f",
   "metadata": {
    "id": "ac63826f"
   },
   "source": [
    "No se observaron duplicados, ni de filas ni de ID's. No se modificó el dataframe."
   ]
  },
  {
   "cell_type": "markdown",
   "id": "274cd06a",
   "metadata": {
    "id": "274cd06a"
   },
   "source": [
    "### `order_products` data frame"
   ]
  },
  {
   "cell_type": "code",
   "execution_count": 20,
   "id": "52326689-84a8-4b8f-a881-7c68780f62c9",
   "metadata": {
    "id": "52326689-84a8-4b8f-a881-7c68780f62c9"
   },
   "outputs": [
    {
     "name": "stdout",
     "output_type": "stream",
     "text": [
      "0\n"
     ]
    }
   ],
   "source": [
    "# Revisar si hay filas totalmente duplicadas\n",
    "print(order_prod.duplicated().sum())"
   ]
  },
  {
   "cell_type": "code",
   "execution_count": 21,
   "id": "7b861391",
   "metadata": {
    "id": "7b861391"
   },
   "outputs": [
    {
     "name": "stdout",
     "output_type": "stream",
     "text": [
      "4094961\n",
      "\n",
      "61355      127\n",
      "3308010    115\n",
      "2136777    108\n",
      "171934     104\n",
      "1959075     98\n",
      "Name: order_id, dtype: int64\n",
      "\n",
      "<class 'pandas.core.frame.DataFrame'>\n",
      "RangeIndex: 4545007 entries, 0 to 4545006\n",
      "Data columns (total 4 columns):\n",
      " #   Column             Non-Null Count    Dtype  \n",
      "---  ------             --------------    -----  \n",
      " 0   order_id           4545007 non-null  int64  \n",
      " 1   product_id         4545007 non-null  int64  \n",
      " 2   add_to_cart_order  4544171 non-null  float64\n",
      " 3   reordered          4545007 non-null  int64  \n",
      "dtypes: float64(1), int64(3)\n",
      "memory usage: 138.7 MB\n",
      "\n",
      "<class 'pandas.core.frame.DataFrame'>\n",
      "Int64Index: 4539125 entries, 0 to 4545006\n",
      "Data columns (total 4 columns):\n",
      " #   Column             Non-Null Count    Dtype  \n",
      "---  ------             --------------    -----  \n",
      " 0   order_id           4539125 non-null  int64  \n",
      " 1   product_id         4539125 non-null  int64  \n",
      " 2   add_to_cart_order  4539125 non-null  float64\n",
      " 3   reordered          4539125 non-null  int64  \n",
      "dtypes: float64(1), int64(3)\n",
      "memory usage: 173.2 MB\n",
      "\n",
      "4089110\n"
     ]
    }
   ],
   "source": [
    "# Vuelve a verificar si hay cualquier otro duplicado engañoso\n",
    "print(order_prod[\"order_id\"].duplicated().sum())\n",
    "print()\n",
    "print(order_prod[\"order_id\"].value_counts().head())\n",
    "duplicated_tricky = order_prod[order_prod[\"product_id\"].duplicated(keep=False)\n",
    "                               & order_prod[\"add_to_cart_order\"].notnull()]\n",
    "print()\n",
    "order_prod.info(show_counts=True)\n",
    "print()\n",
    "duplicated_tricky.info(show_counts=True)\n",
    "print()\n",
    "print(duplicated_tricky[\"order_id\"].duplicated().sum())"
   ]
  },
  {
   "cell_type": "markdown",
   "id": "0b890492",
   "metadata": {
    "id": "0b890492"
   },
   "source": [
    "No se observó duplicados de filas. Si se observó \"duplicados\" en los ID's de las órdenes, aunque esto se puede explicar con que cada fila es un artículo único de cada pedido, por lo que es normal que las personas pidan más cosas en un pedido o inclusive más de un mismo articulo en un pedido. No se modificó el dataframe. Los datos ausentes no parecen ser la principal causa de los datos duplicados, pero si hay una diferencia cuando retiramos los datos nulos."
   ]
  },
  {
   "cell_type": "markdown",
   "id": "1e46de76",
   "metadata": {
    "id": "1e46de76"
   },
   "source": [
    "## Encontrar y eliminar los valores ausentes\n",
    "\n",
    "Al trabajar con valores duplicados, pudimos observar que también nos falta investigar valores ausentes:\n",
    "\n",
    "* La columna `'product_name'` de la tabla products.\n",
    "* La columna `'days_since_prior_order'` de la tabla orders.\n",
    "* La columna `'add_to_cart_order'` de la tabla order_productos."
   ]
  },
  {
   "cell_type": "code",
   "execution_count": null,
   "id": "39bda12d",
   "metadata": {},
   "outputs": [],
   "source": []
  },
  {
   "cell_type": "markdown",
   "id": "c0aebd78",
   "metadata": {
    "id": "c0aebd78"
   },
   "source": [
    "### `products` data frame"
   ]
  },
  {
   "cell_type": "code",
   "execution_count": 22,
   "id": "fe4a8b0f",
   "metadata": {
    "id": "fe4a8b0f"
   },
   "outputs": [
    {
     "name": "stdout",
     "output_type": "stream",
     "text": [
      "       product_id product_name  aisle_id  department_id\n",
      "37             38          NaN       100             21\n",
      "71             72          NaN       100             21\n",
      "109           110          NaN       100             21\n",
      "296           297          NaN       100             21\n",
      "416           417          NaN       100             21\n",
      "...           ...          ...       ...            ...\n",
      "49552       49553          NaN       100             21\n",
      "49574       49575          NaN       100             21\n",
      "49640       49641          NaN       100             21\n",
      "49663       49664          NaN       100             21\n",
      "49668       49669          NaN       100             21\n",
      "\n",
      "[1258 rows x 4 columns]\n"
     ]
    }
   ],
   "source": [
    "# Encontrar los valores ausentes en la columna 'product_name'\n",
    "print(prod[prod[\"product_name\"].isna()])"
   ]
  },
  {
   "cell_type": "markdown",
   "id": "-A6x1AbJhjkp",
   "metadata": {
    "id": "-A6x1AbJhjkp"
   },
   "source": [
    "Hay 1258 datos ausentes. Todos tienen en común el ID del pasillo 100 y el ID del departamento 21."
   ]
  },
  {
   "cell_type": "code",
   "execution_count": 23,
   "id": "e96167bc",
   "metadata": {
    "id": "e96167bc"
   },
   "outputs": [
    {
     "name": "stdout",
     "output_type": "stream",
     "text": [
      "Empty DataFrame\n",
      "Columns: [product_id, product_name, aisle_id, department_id]\n",
      "Index: []\n"
     ]
    }
   ],
   "source": [
    "#  ¿Todos los nombres de productos ausentes están relacionados con el pasillo con ID 100?\n",
    "print(prod[prod[\"product_name\"].isna() & ~(prod[\"aisle_id\"] == 100)])"
   ]
  },
  {
   "cell_type": "markdown",
   "id": "WRpIfXRphpSL",
   "metadata": {
    "id": "WRpIfXRphpSL"
   },
   "source": [
    "Cuando buscamos un dato ausente en otro id de pasillo que no sea 100, no encontramos un dato ausente."
   ]
  },
  {
   "cell_type": "code",
   "execution_count": 24,
   "id": "8fd0a541",
   "metadata": {
    "id": "8fd0a541"
   },
   "outputs": [
    {
     "name": "stdout",
     "output_type": "stream",
     "text": [
      "Empty DataFrame\n",
      "Columns: [product_id, product_name, aisle_id, department_id]\n",
      "Index: []\n"
     ]
    }
   ],
   "source": [
    "# ¿Todos los nombres de productos ausentes están relacionados con el departamento con ID 21?\n",
    "print(prod[prod[\"product_name\"].isna() & ~(prod[\"department_id\"] == 21)])"
   ]
  },
  {
   "cell_type": "markdown",
   "id": "qDpdYn1Fht_I",
   "metadata": {
    "id": "qDpdYn1Fht_I"
   },
   "source": [
    "Cuando buscamos un dato ausente en otro id del departamento que no sea 21, no encontramos un dato ausente."
   ]
  },
  {
   "cell_type": "code",
   "execution_count": 25,
   "id": "325c3464",
   "metadata": {
    "id": "325c3464"
   },
   "outputs": [
    {
     "name": "stdout",
     "output_type": "stream",
     "text": [
      "    aisle_id    aisle\n",
      "99       100  missing\n",
      "    department_id department\n",
      "20             21    missing\n"
     ]
    }
   ],
   "source": [
    "# Usar las tablas department y aisle para revisar los datos del pasillo con ID 100 y el departamento con ID 21.\n",
    "print(aisles[aisles[\"aisle_id\"] == 100])\n",
    "print(deps[deps[\"department_id\"] == 21])"
   ]
  },
  {
   "cell_type": "markdown",
   "id": "nqhSTUPhhvEJ",
   "metadata": {
    "id": "nqhSTUPhhvEJ"
   },
   "source": [
    "Cuando buscamos un cualquier dato que se encuentre en en el departamento 21 o en el pasillo 100 no podemos encontrar nada de información."
   ]
  },
  {
   "cell_type": "code",
   "execution_count": 26,
   "id": "6b295120",
   "metadata": {
    "id": "6b295120"
   },
   "outputs": [
    {
     "name": "stdout",
     "output_type": "stream",
     "text": [
      "Empty DataFrame\n",
      "Columns: [product_id, product_name, aisle_id, department_id]\n",
      "Index: []\n",
      "<class 'pandas.core.frame.DataFrame'>\n",
      "RangeIndex: 49694 entries, 0 to 49693\n",
      "Data columns (total 4 columns):\n",
      " #   Column         Non-Null Count  Dtype \n",
      "---  ------         --------------  ----- \n",
      " 0   product_id     49694 non-null  int64 \n",
      " 1   product_name   49694 non-null  object\n",
      " 2   aisle_id       49694 non-null  int64 \n",
      " 3   department_id  49694 non-null  int64 \n",
      "dtypes: int64(3), object(1)\n",
      "memory usage: 1.5+ MB\n"
     ]
    }
   ],
   "source": [
    "# Completar los nombres de productos ausentes con 'Unknown'\n",
    "prod[\"product_name\"] = prod[\"product_name\"].fillna(\"Unknown\")\n",
    "print(prod[prod[\"product_name\"].isna()])\n",
    "prod.info()"
   ]
  },
  {
   "cell_type": "markdown",
   "id": "fc70e5ad",
   "metadata": {
    "id": "fc70e5ad"
   },
   "source": [
    "LLenamos los datos ausentes con \"Unknown\" con todos aquellos productos relacionados con el pasillo 100 y departamento 21. Verificamos que ya no hay datos ausentes en el Dataframe."
   ]
  },
  {
   "cell_type": "markdown",
   "id": "7eb45c86",
   "metadata": {
    "id": "7eb45c86"
   },
   "source": [
    "### `orders` data frame"
   ]
  },
  {
   "cell_type": "code",
   "execution_count": 27,
   "id": "93e41d96",
   "metadata": {
    "id": "93e41d96"
   },
   "outputs": [],
   "source": [
    "# Encontrar los valores ausentes\n",
    " print(insta_ord[insta_ord[\"days_since_prior_order\"].isna()])"
   ]
  },
  {
   "cell_type": "code",
   "execution_count": 28,
   "id": "166e5a86",
   "metadata": {
    "id": "166e5a86"
   },
   "outputs": [
    {
     "name": "stdout",
     "output_type": "stream",
     "text": [
      "Empty DataFrame\n",
      "Columns: [order_id, user_id, order_number, order_dow, order_hour_of_day, days_since_prior_order]\n",
      "Index: []\n",
      "\n",
      "Empty DataFrame\n",
      "Columns: [order_id, user_id, order_number, order_dow, order_hour_of_day, days_since_prior_order]\n",
      "Index: []\n",
      "\n",
      "<class 'pandas.core.frame.DataFrame'>\n",
      "RangeIndex: 478952 entries, 0 to 478951\n",
      "Data columns (total 6 columns):\n",
      " #   Column                  Non-Null Count   Dtype  \n",
      "---  ------                  --------------   -----  \n",
      " 0   order_id                478952 non-null  int64  \n",
      " 1   user_id                 478952 non-null  int64  \n",
      " 2   order_number            478952 non-null  int64  \n",
      " 3   order_dow               478952 non-null  int64  \n",
      " 4   order_hour_of_day       478952 non-null  int64  \n",
      " 5   days_since_prior_order  478952 non-null  float64\n",
      "dtypes: float64(1), int64(5)\n",
      "memory usage: 21.9 MB\n"
     ]
    }
   ],
   "source": [
    "# ¿Hay algún valor ausente que no sea el primer pedido del cliente?\n",
    "print(insta_ord[insta_ord[\"days_since_prior_order\"].isna()\n",
    "      & ~(insta_ord[\"order_number\"] == 1)])\n",
    "\n",
    "print()\n",
    "insta_ord[\"days_since_prior_order\"] = insta_ord[\"days_since_prior_order\"].fillna(\n",
    "    0)\n",
    "print(insta_ord[insta_ord[\"days_since_prior_order\"].isna()])\n",
    "print()\n",
    "insta_ord.info()"
   ]
  },
  {
   "cell_type": "markdown",
   "id": "4e23d089",
   "metadata": {
    "id": "4e23d089"
   },
   "source": [
    "No hay ningún valor ausente que no sea el primer pedido del cliente. Se llenó los datos ausentes con un \"0\" (cero), haciendo referencia a que no ha habido otro pedido anterior. No se osbervó un cambio en el el tipo de datos \"float\". "
   ]
  },
  {
   "cell_type": "markdown",
   "id": "69dc9ca4",
   "metadata": {
    "id": "69dc9ca4"
   },
   "source": [
    "### `order_products` data frame"
   ]
  },
  {
   "cell_type": "code",
   "execution_count": 29,
   "id": "b8240253",
   "metadata": {
    "id": "b8240253"
   },
   "outputs": [
    {
     "name": "stdout",
     "output_type": "stream",
     "text": [
      "<class 'pandas.core.frame.DataFrame'>\n",
      "RangeIndex: 4545007 entries, 0 to 4545006\n",
      "Data columns (total 4 columns):\n",
      " #   Column             Non-Null Count    Dtype  \n",
      "---  ------             --------------    -----  \n",
      " 0   order_id           4545007 non-null  int64  \n",
      " 1   product_id         4545007 non-null  int64  \n",
      " 2   add_to_cart_order  4544171 non-null  float64\n",
      " 3   reordered          4545007 non-null  int64  \n",
      "dtypes: float64(1), int64(3)\n",
      "memory usage: 138.7 MB\n",
      "\n",
      "         order_id  product_id  add_to_cart_order  reordered\n",
      "737       2449164        5068                NaN          0\n",
      "9926      1968313       43867                NaN          0\n",
      "14394     2926893       11688                NaN          0\n",
      "16418     1717990        4142                NaN          0\n",
      "30114     1959075       42828                NaN          1\n",
      "...           ...         ...                ...        ...\n",
      "4505662   1800005        7411                NaN          0\n",
      "4511400   1633337         260                NaN          0\n",
      "4517562    404157        9517                NaN          0\n",
      "4534112   1673227       17835                NaN          0\n",
      "4535739   1832957       17949                NaN          1\n",
      "\n",
      "[836 rows x 4 columns]\n"
     ]
    }
   ],
   "source": [
    "# Encontrar los valores ausentes\n",
    "order_prod.info(show_counts=True)\n",
    "print()\n",
    "print(order_prod[order_prod[\"add_to_cart_order\"].isna()])"
   ]
  },
  {
   "cell_type": "code",
   "execution_count": 30,
   "id": "9a78e5ee",
   "metadata": {
    "id": "9a78e5ee"
   },
   "outputs": [
    {
     "name": "stdout",
     "output_type": "stream",
     "text": [
      "1.0\n",
      "\n",
      "64.0\n"
     ]
    }
   ],
   "source": [
    "# ¿Cuáles son los valores mínimos y máximos en esta columna?\n",
    "print(order_prod[\"add_to_cart_order\"].min())\n",
    "print()\n",
    "print(order_prod[\"add_to_cart_order\"].max())"
   ]
  },
  {
   "cell_type": "markdown",
   "id": "-Z2Ja215jW78",
   "metadata": {
    "id": "-Z2Ja215jW78"
   },
   "source": [
    "Los valores máximos y mínimos son 64.0 y 1.0, respectivamente en la columna \"add_to_cart_order\". Luego del 64 podría ser necesario hacer otra orden para agregar nuevos productos."
   ]
  },
  {
   "cell_type": "code",
   "execution_count": 31,
   "id": "ab9d0c2b",
   "metadata": {
    "id": "ab9d0c2b"
   },
   "outputs": [
    {
     "data": {
      "text/plain": [
       "61355      63\n",
       "3308010    51\n",
       "2136777    44\n",
       "171934     40\n",
       "1959075    34\n",
       "           ..\n",
       "2652650     1\n",
       "2729254     1\n",
       "2621907     1\n",
       "888470      1\n",
       "1677118     1\n",
       "Name: order_id, Length: 70, dtype: int64"
      ]
     },
     "execution_count": 31,
     "metadata": {},
     "output_type": "execute_result"
    }
   ],
   "source": [
    "# Guardar todas las IDs de pedidos que tengan un valor ausente en 'add_to_cart_order'\n",
    "order_ID_null = order_prod.loc[order_prod['add_to_cart_order'].isna(\n",
    "), 'order_id']\n",
    "order_ID_null.value_counts()"
   ]
  },
  {
   "cell_type": "code",
   "execution_count": 32,
   "id": "54c31695",
   "metadata": {
    "id": "54c31695",
    "scrolled": true
   },
   "outputs": [
    {
     "name": "stdout",
     "output_type": "stream",
     "text": [
      "order_id  product_id\n",
      "9310      25753         1\n",
      "61355     1087          1\n",
      "          1203          1\n",
      "          1700          1\n",
      "          3390          1\n",
      "                       ..\n",
      "3383594   63            1\n",
      "          15076         1\n",
      "          15424         1\n",
      "          46710         1\n",
      "          49144         1\n",
      "Name: product_id, Length: 836, dtype: int64\n",
      "\n",
      "1\n"
     ]
    }
   ],
   "source": [
    "# ¿Todos los pedidos con valores ausentes tienen más de 64 productos?\n",
    "# Agrupar todos los pedidos con datos ausentes por su ID de pedido.\n",
    "# Contar el número de 'product_id' en cada pedido y revisa el valor mínimo del conteo.\n",
    "pedidos_con_valor_ausente = order_prod[order_prod['add_to_cart_order'].isna(\n",
    ")].groupby('order_id')\n",
    "\n",
    "print(pedidos_con_valor_ausente[\"product_id\"].value_counts())\n",
    "print()\n",
    "print(pedidos_con_valor_ausente[\"product_id\"].value_counts().min())"
   ]
  },
  {
   "cell_type": "markdown",
   "id": "p9V6pddtjglj",
   "metadata": {
    "id": "p9V6pddtjglj"
   },
   "source": [
    "No todos los pedidos con valores ausentes tienen más de 64 productos. El valor mínimo  es 1. "
   ]
  },
  {
   "cell_type": "code",
   "execution_count": 33,
   "id": "7a987d08",
   "metadata": {
    "id": "7a987d08"
   },
   "outputs": [
    {
     "name": "stdout",
     "output_type": "stream",
     "text": [
      "<class 'pandas.core.frame.DataFrame'>\n",
      "RangeIndex: 4545007 entries, 0 to 4545006\n",
      "Data columns (total 4 columns):\n",
      " #   Column             Non-Null Count    Dtype  \n",
      "---  ------             --------------    -----  \n",
      " 0   order_id           4545007 non-null  int64  \n",
      " 1   product_id         4545007 non-null  int64  \n",
      " 2   add_to_cart_order  4545007 non-null  float64\n",
      " 3   reordered          4545007 non-null  int64  \n",
      "dtypes: float64(1), int64(3)\n",
      "memory usage: 138.7 MB\n",
      "<class 'pandas.core.frame.DataFrame'>\n",
      "RangeIndex: 4545007 entries, 0 to 4545006\n",
      "Data columns (total 4 columns):\n",
      " #   Column             Dtype\n",
      "---  ------             -----\n",
      " 0   order_id           int64\n",
      " 1   product_id         int64\n",
      " 2   add_to_cart_order  int64\n",
      " 3   reordered          int64\n",
      "dtypes: int64(4)\n",
      "memory usage: 138.7 MB\n"
     ]
    }
   ],
   "source": [
    "# Remplazar los valores ausentes en la columna 'add_to_cart' con 999 y convierte la columna al tipo entero.\n",
    "import numpy as np\n",
    "order_prod = order_prod.fillna(999)\n",
    "order_prod.info(show_counts=True)\n",
    "\n",
    "\n",
    "np.array_equal(order_prod['add_to_cart_order'],\n",
    "               order_prod['add_to_cart_order'].astype('int'))\n",
    "order_prod['add_to_cart_order'] = order_prod['add_to_cart_order'].astype('int')\n",
    "order_prod.info()"
   ]
  },
  {
   "cell_type": "markdown",
   "id": "fea4bcc7",
   "metadata": {
    "id": "fea4bcc7"
   },
   "source": [
    "Se llenaron los datos ausentes usando \"999\", y luego de verificar con np.array_equal(), los datos fueron transformados a enteros."
   ]
  },
  {
   "cell_type": "markdown",
   "id": "RnplPFY1gSrb",
   "metadata": {
    "id": "RnplPFY1gSrb"
   },
   "source": [
    "## Conclusiones\n",
    "\n",
    "Se procesaron los datos para tenerlos listos para los siguientes analisis. Se eliminaron las filas duplicadas, se aseguró el reemplazo o eliminación de los datos ausentes, de acuerdo a la naturaleza de los mismos. \n"
   ]
  },
  {
   "cell_type": "markdown",
   "id": "UjrOIwTcz3ri",
   "metadata": {
    "id": "UjrOIwTcz3ri"
   },
   "source": [
    "# Paso 3. Análisis de los datos"
   ]
  },
  {
   "cell_type": "markdown",
   "id": "short-capability",
   "metadata": {
    "id": "short-capability"
   },
   "source": [
    "### Verificamos que los valores sean sensibles"
   ]
  },
  {
   "cell_type": "code",
   "execution_count": 34,
   "id": "growing-fruit",
   "metadata": {
    "id": "growing-fruit"
   },
   "outputs": [
    {
     "name": "stdout",
     "output_type": "stream",
     "text": [
      "[0, 1, 2, 3, 4, 5, 6, 7, 8, 9, 10, 11, 12, 13, 14, 15, 16, 17, 18, 19, 20, 21, 22, 23]\n"
     ]
    }
   ],
   "source": [
    "print(sorted(insta_ord[\"order_hour_of_day\"].unique()))"
   ]
  },
  {
   "cell_type": "code",
   "execution_count": 35,
   "id": "accessory-malaysia",
   "metadata": {
    "id": "accessory-malaysia"
   },
   "outputs": [
    {
     "name": "stdout",
     "output_type": "stream",
     "text": [
      "[0, 1, 2, 3, 4, 5, 6]\n"
     ]
    }
   ],
   "source": [
    "print(sorted(insta_ord[\"order_dow\"].unique()))"
   ]
  },
  {
   "cell_type": "markdown",
   "id": "hmR2GNQ6lCsX",
   "metadata": {
    "id": "hmR2GNQ6lCsX"
   },
   "source": [
    "Los valores en las columnas 'order_hour_of_day' y 'order_dow' en la tabla insta_ord oscilan entre 0 y 23 y 0 y 6, respectivamente."
   ]
  },
  {
   "cell_type": "markdown",
   "id": "a6743a70",
   "metadata": {
    "id": "a6743a70"
   },
   "source": [
    "### Para cada hora del día, ¿cuántas personas hacen órdenes?"
   ]
  },
  {
   "cell_type": "code",
   "execution_count": 36,
   "id": "a36cca27",
   "metadata": {
    "id": "a36cca27"
   },
   "outputs": [
    {
     "data": {
      "image/png": "[encoded data removed]",
      "text/plain": [
       "<Figure size 360x360 with 1 Axes>"
      ]
     },
     "metadata": {
      "needs_background": "light"
     },
     "output_type": "display_data"
    }
   ],
   "source": [
    "from matplotlib import pyplot as plt\n",
    "person_per_hour = insta_ord.groupby('order_hour_of_day')[\n",
    "    'user_id'].count().sort_index()\n",
    "person_per_hour.plot(figsize=[5, 5], kind='bar', title=\"Número de personas haciendo órdenes a cada hora del día\",\n",
    "                     xlabel=\"Hora del día\", ylabel=\"Número de personas haciendo ordenes\")\n",
    "plt.show()"
   ]
  },
  {
   "cell_type": "markdown",
   "id": "11270eed",
   "metadata": {
    "id": "11270eed"
   },
   "source": [
    "Escribe aquí tus conclusiones\n",
    "En la madrugada es cuando vemos el menor número de pedidos, y conforme avanza la mañana aumenta hasta que encontramos el punto máximo a las 10:00 a.m. para mantenerse similar hasta las 4:00 p.m. donde hay un declive."
   ]
  },
  {
   "cell_type": "markdown",
   "id": "documented-command",
   "metadata": {
    "id": "documented-command"
   },
   "source": [
    "### ¿Qué día de la semana compran víveres las personas?"
   ]
  },
  {
   "cell_type": "code",
   "execution_count": 37,
   "id": "chief-digit",
   "metadata": {
    "id": "chief-digit"
   },
   "outputs": [
    {
     "data": {
      "image/png": "[encoded data removed]",
      "text/plain": [
       "<Figure size 360x360 with 1 Axes>"
      ]
     },
     "metadata": {
      "needs_background": "light"
     },
     "output_type": "display_data"
    }
   ],
   "source": [
    "day_week = insta_ord.groupby('order_dow')[\n",
    "    'user_id'].count().sort_index().reset_index()\n",
    "day_week[\"order_dow\"] = day_week[\"order_dow\"].replace(\n",
    "    {0: \"Domingo\", 1: \"Lunes\", 2: \"Martes\", 3: \"Miércoles\", 4: \"Jueves\", 5: \"Viernes\", 6: \"Sábado\"})\n",
    "day_week.plot(x=\"order_dow\", y=\"user_id\", kind='bar',  rot=45, legend=False, figsize=[\n",
    "              5, 5], title=\"Número de personas haciendo órdenes cada día de la semana\", xlabel=\"Día de la semana\", ylabel=\"Número de personas haciendo ordenes\")\n",
    "plt.show()"
   ]
  },
  {
   "cell_type": "markdown",
   "id": "dominant-lightning",
   "metadata": {
    "id": "dominant-lightning"
   },
   "source": [
    "Escribe aquí tus conclusiones\n",
    "Las personas compran los víveres usualmente los Domingos y Lunes, siendo el Jueves el día con menos compras."
   ]
  },
  {
   "cell_type": "markdown",
   "id": "cutting-concert",
   "metadata": {
    "id": "cutting-concert"
   },
   "source": [
    "### ¿Cuánto tiempo esperan las personas hasta hacer otro pedido? Comenta sobre los valores mínimos y máximos."
   ]
  },
  {
   "cell_type": "code",
   "execution_count": 38,
   "id": "c231f523",
   "metadata": {
    "id": "c231f523",
    "scrolled": true
   },
   "outputs": [
    {
     "data": {
      "image/png": "[encoded data removed]",
      "text/plain": [
       "<Figure size 720x360 with 1 Axes>"
      ]
     },
     "metadata": {
      "needs_background": "light"
     },
     "output_type": "display_data"
    }
   ],
   "source": [
    "waiting_time = insta_ord.groupby('days_since_prior_order')[\n",
    "    'user_id'].count().sort_index().reset_index()\n",
    "waiting_time.plot(x=\"days_since_prior_order\", y=\"user_id\", kind='bar',  rot=45, legend=False, figsize=[\n",
    "                  10, 5], title=\"Tiempo de espera para hacer otro pedido\", xlabel=\"Número de día\", ylabel=\"Número de personas esperando para hacer otra orden\")\n",
    "plt.show()"
   ]
  },
  {
   "cell_type": "markdown",
   "id": "discrete-vertex",
   "metadata": {
    "id": "discrete-vertex"
   },
   "source": [
    "Escribe aquí tus conclusiones\n",
    "\n",
    "Hay tres picos inportantes que destacan: en el mínimo pareciera que una cantidad importante vuelve a pedir el mismo día, tal vez debido a que se les olvido un producto o si han llegado al máximo permitido por pedido. En el siguiente pico observamos lo que parecieran ser clientes recurrentes pidiendo una nueva orden luego de 7 días, para reabastecerse de los productos consumidos. Finalizando, el último punto nos indica que muchos clientes no vuelven a hacer un pedido o pueden tardar más de 30 días en usar la app. Una posible explicación es que estos clientes unicamente hicieron un pedido usando alguna clase de cupon o descuento (en su primer pedido, por ejemplo) y sin este apoyo, no consideran rentable hacer uso de la aplicación."
   ]
  },
  {
   "cell_type": "markdown",
   "id": "packed-classic",
   "metadata": {
    "id": "packed-classic"
   },
   "source": [
    "### Diferencia entre miércoles y sábados para  `'order_hour_of_day'`. Trazaremos gráficos de barra para los dos días y describiremos las diferencias que veas."
   ]
  },
  {
   "cell_type": "code",
   "execution_count": 39,
   "id": "d89b8403",
   "metadata": {
    "id": "d89b8403"
   },
   "outputs": [],
   "source": [
    "mi_sab_3 = insta_ord[(insta_ord[\"order_dow\"] == 3)][[\n",
    "    \"order_hour_of_day\"]].value_counts().sort_index()\n",
    "mi_sab_6 = insta_ord[(insta_ord[\"order_dow\"] == 6)][[\n",
    "    \"order_hour_of_day\"]].value_counts().sort_index()"
   ]
  },
  {
   "cell_type": "code",
   "execution_count": 40,
   "id": "94e54e8a",
   "metadata": {
    "id": "94e54e8a"
   },
   "outputs": [
    {
     "data": {
      "text/html": [
       "<div>\n",
       "<style scoped>\n",
       "    .dataframe tbody tr th:only-of-type {\n",
       "        vertical-align: middle;\n",
       "    }\n",
       "\n",
       "    .dataframe tbody tr th {\n",
       "        vertical-align: top;\n",
       "    }\n",
       "\n",
       "    .dataframe thead th {\n",
       "        text-align: right;\n",
       "    }\n",
       "</style>\n",
       "<table border=\"1\" class=\"dataframe\">\n",
       "  <thead>\n",
       "    <tr style=\"text-align: right;\">\n",
       "      <th></th>\n",
       "      <th>order_hour_of_day</th>\n",
       "      <th>Miercoles</th>\n",
       "      <th>Sabado</th>\n",
       "    </tr>\n",
       "  </thead>\n",
       "  <tbody>\n",
       "    <tr>\n",
       "      <th>0</th>\n",
       "      <td>0</td>\n",
       "      <td>373</td>\n",
       "      <td>464</td>\n",
       "    </tr>\n",
       "    <tr>\n",
       "      <th>1</th>\n",
       "      <td>1</td>\n",
       "      <td>215</td>\n",
       "      <td>254</td>\n",
       "    </tr>\n",
       "    <tr>\n",
       "      <th>2</th>\n",
       "      <td>2</td>\n",
       "      <td>106</td>\n",
       "      <td>177</td>\n",
       "    </tr>\n",
       "    <tr>\n",
       "      <th>3</th>\n",
       "      <td>3</td>\n",
       "      <td>101</td>\n",
       "      <td>125</td>\n",
       "    </tr>\n",
       "    <tr>\n",
       "      <th>4</th>\n",
       "      <td>4</td>\n",
       "      <td>108</td>\n",
       "      <td>118</td>\n",
       "    </tr>\n",
       "  </tbody>\n",
       "</table>\n",
       "</div>"
      ],
      "text/plain": [
       "   order_hour_of_day  Miercoles  Sabado\n",
       "0                  0        373     464\n",
       "1                  1        215     254\n",
       "2                  2        106     177\n",
       "3                  3        101     125\n",
       "4                  4        108     118"
      ]
     },
     "execution_count": 40,
     "metadata": {},
     "output_type": "execute_result"
    }
   ],
   "source": [
    "mi_sab_concat = pd.concat([mi_sab_3, mi_sab_6], axis=1)\n",
    "mi_sab_concat.columns = ['Miercoles', 'Sabado']\n",
    "mi_sab_concat = mi_sab_concat.reset_index()\n",
    "mi_sab_concat.head()"
   ]
  },
  {
   "cell_type": "code",
   "execution_count": 41,
   "id": "797c90a8",
   "metadata": {
    "id": "797c90a8"
   },
   "outputs": [
    {
     "data": {
      "image/png": "[encoded data removed]",
      "text/plain": [
       "<Figure size 432x288 with 1 Axes>"
      ]
     },
     "metadata": {
      "needs_background": "light"
     },
     "output_type": "display_data"
    }
   ],
   "source": [
    "mi_sab_concat.plot(x='order_hour_of_day',\n",
    "                   kind='bar',\n",
    "                   title='Diferencia entre miércoles y sábados',\n",
    "                   xlabel='Hora',\n",
    "                   ylabel='Número de órdenes')\n",
    "plt.legend(['Miércoles', 'Sábado'])\n",
    "plt.show()"
   ]
  },
  {
   "cell_type": "markdown",
   "id": "charitable-congo",
   "metadata": {
    "id": "charitable-congo"
   },
   "source": [
    "Pareciera que hay diferencias significativas entre las 11:00 a.m. y 14:00 p.m. con una disminución de órdenes los miércoles a comparación de los sábados."
   ]
  },
  {
   "cell_type": "markdown",
   "id": "e3891143",
   "metadata": {
    "id": "e3891143"
   },
   "source": [
    "### ¿Cuál es la distribución para el número de pedidos por cliente?"
   ]
  },
  {
   "cell_type": "code",
   "execution_count": 57,
   "id": "d8c26c23",
   "metadata": {
    "id": "d8c26c23"
   },
   "outputs": [
    {
     "data": {
      "text/plain": [
       "user_id\n",
       "2         2\n",
       "4         2\n",
       "5         1\n",
       "6         2\n",
       "7         2\n",
       "         ..\n",
       "206203    1\n",
       "206206    7\n",
       "206207    5\n",
       "206208    9\n",
       "206209    2\n",
       "Name: order_id, Length: 157437, dtype: int64"
      ]
     },
     "metadata": {},
     "output_type": "display_data"
    }
   ],
   "source": [
    "num_per_user = insta_ord.groupby('user_id')['order_id'].count().sort_index()\n",
    "display(num_per_user)"
   ]
  },
  {
   "cell_type": "code",
   "execution_count": 43,
   "id": "00e69a66",
   "metadata": {
    "id": "00e69a66",
    "scrolled": false
   },
   "outputs": [
    {
     "data": {
      "image/png": "[encoded data removed]",
      "text/plain": [
       "<Figure size 1080x432 with 1 Axes>"
      ]
     },
     "metadata": {
      "needs_background": "light"
     },
     "output_type": "display_data"
    }
   ],
   "source": [
    "num_per_user.plot(kind='hist', title=\"Distribución para el número de pedidos por cliente\",\n",
    "                  bins=30, figsize=[15, 6], ylabel=\"Cantidad de clientes\")\n",
    "plt.show()"
   ]
  },
  {
   "cell_type": "markdown",
   "id": "d2eff7d5",
   "metadata": {
    "id": "d2eff7d5"
   },
   "source": [
    "La gran mayoría de las personas no hacen más que unas pocos pedidos (Entre 1 y 5 pedidos). Pocos mantienen como hábito el seguir pidiendo. Este resultado parece estar relacionado con el de cuanto tiempo esperan los clientes en volver a pedir. "
   ]
  },
  {
   "cell_type": "markdown",
   "id": "54a0319c",
   "metadata": {
    "id": "54a0319c"
   },
   "source": [
    "### ¿Cuáles son los 20 productos más populares (mostrar su ID y nombre)?"
   ]
  },
  {
   "cell_type": "code",
   "execution_count": 44,
   "id": "exterior-arizona",
   "metadata": {
    "id": "exterior-arizona",
    "scrolled": false
   },
   "outputs": [
    {
     "data": {
      "text/html": [
       "<div>\n",
       "<style scoped>\n",
       "    .dataframe tbody tr th:only-of-type {\n",
       "        vertical-align: middle;\n",
       "    }\n",
       "\n",
       "    .dataframe tbody tr th {\n",
       "        vertical-align: top;\n",
       "    }\n",
       "\n",
       "    .dataframe thead th {\n",
       "        text-align: right;\n",
       "    }\n",
       "</style>\n",
       "<table border=\"1\" class=\"dataframe\">\n",
       "  <thead>\n",
       "    <tr style=\"text-align: right;\">\n",
       "      <th></th>\n",
       "      <th>product_id</th>\n",
       "      <th>quantity</th>\n",
       "    </tr>\n",
       "  </thead>\n",
       "  <tbody>\n",
       "    <tr>\n",
       "      <th>0</th>\n",
       "      <td>24852</td>\n",
       "      <td>66050</td>\n",
       "    </tr>\n",
       "    <tr>\n",
       "      <th>1</th>\n",
       "      <td>13176</td>\n",
       "      <td>53297</td>\n",
       "    </tr>\n",
       "    <tr>\n",
       "      <th>2</th>\n",
       "      <td>21137</td>\n",
       "      <td>37039</td>\n",
       "    </tr>\n",
       "    <tr>\n",
       "      <th>3</th>\n",
       "      <td>21903</td>\n",
       "      <td>33971</td>\n",
       "    </tr>\n",
       "    <tr>\n",
       "      <th>4</th>\n",
       "      <td>47209</td>\n",
       "      <td>29773</td>\n",
       "    </tr>\n",
       "    <tr>\n",
       "      <th>5</th>\n",
       "      <td>47766</td>\n",
       "      <td>24689</td>\n",
       "    </tr>\n",
       "    <tr>\n",
       "      <th>6</th>\n",
       "      <td>47626</td>\n",
       "      <td>21495</td>\n",
       "    </tr>\n",
       "    <tr>\n",
       "      <th>7</th>\n",
       "      <td>16797</td>\n",
       "      <td>20018</td>\n",
       "    </tr>\n",
       "    <tr>\n",
       "      <th>8</th>\n",
       "      <td>26209</td>\n",
       "      <td>19690</td>\n",
       "    </tr>\n",
       "    <tr>\n",
       "      <th>9</th>\n",
       "      <td>27845</td>\n",
       "      <td>19600</td>\n",
       "    </tr>\n",
       "    <tr>\n",
       "      <th>10</th>\n",
       "      <td>27966</td>\n",
       "      <td>19197</td>\n",
       "    </tr>\n",
       "    <tr>\n",
       "      <th>11</th>\n",
       "      <td>22935</td>\n",
       "      <td>15898</td>\n",
       "    </tr>\n",
       "    <tr>\n",
       "      <th>12</th>\n",
       "      <td>24964</td>\n",
       "      <td>15292</td>\n",
       "    </tr>\n",
       "    <tr>\n",
       "      <th>13</th>\n",
       "      <td>45007</td>\n",
       "      <td>14584</td>\n",
       "    </tr>\n",
       "    <tr>\n",
       "      <th>14</th>\n",
       "      <td>39275</td>\n",
       "      <td>13879</td>\n",
       "    </tr>\n",
       "    <tr>\n",
       "      <th>15</th>\n",
       "      <td>49683</td>\n",
       "      <td>13675</td>\n",
       "    </tr>\n",
       "    <tr>\n",
       "      <th>16</th>\n",
       "      <td>28204</td>\n",
       "      <td>12544</td>\n",
       "    </tr>\n",
       "    <tr>\n",
       "      <th>17</th>\n",
       "      <td>5876</td>\n",
       "      <td>12232</td>\n",
       "    </tr>\n",
       "    <tr>\n",
       "      <th>18</th>\n",
       "      <td>8277</td>\n",
       "      <td>11993</td>\n",
       "    </tr>\n",
       "    <tr>\n",
       "      <th>19</th>\n",
       "      <td>40706</td>\n",
       "      <td>11781</td>\n",
       "    </tr>\n",
       "  </tbody>\n",
       "</table>\n",
       "</div>"
      ],
      "text/plain": [
       "    product_id  quantity\n",
       "0        24852     66050\n",
       "1        13176     53297\n",
       "2        21137     37039\n",
       "3        21903     33971\n",
       "4        47209     29773\n",
       "5        47766     24689\n",
       "6        47626     21495\n",
       "7        16797     20018\n",
       "8        26209     19690\n",
       "9        27845     19600\n",
       "10       27966     19197\n",
       "11       22935     15898\n",
       "12       24964     15292\n",
       "13       45007     14584\n",
       "14       39275     13879\n",
       "15       49683     13675\n",
       "16       28204     12544\n",
       "17        5876     12232\n",
       "18        8277     11993\n",
       "19       40706     11781"
      ]
     },
     "metadata": {},
     "output_type": "display_data"
    }
   ],
   "source": [
    "popular_product = order_prod[[\"product_id\"]\n",
    "                             ].value_counts().reset_index().iloc[0:20, :]\n",
    "popular_product.columns = ['product_id', 'quantity']\n",
    "display(popular_product.head(25))  # Se verifica el tamaño del dataframe"
   ]
  },
  {
   "cell_type": "code",
   "execution_count": 45,
   "id": "universal-facial",
   "metadata": {
    "id": "universal-facial"
   },
   "outputs": [],
   "source": [
    "produ_name = prod[[\"product_id\", \"product_name\"]]"
   ]
  },
  {
   "cell_type": "code",
   "execution_count": 46,
   "id": "bbcdd20b",
   "metadata": {
    "id": "bbcdd20b"
   },
   "outputs": [
    {
     "data": {
      "image/png": "[encoded data removed]",
      "text/plain": [
       "<Figure size 1080x432 with 1 Axes>"
      ]
     },
     "metadata": {
      "needs_background": "light"
     },
     "output_type": "display_data"
    }
   ],
   "source": [
    "pop_prod_name = popular_product.merge(produ_name, on=\"product_id\", how=\"left\")\n",
    "pop_prod_name.plot(x='product_name', y='quantity', kind='bar',\n",
    "                   title=\"Los 20 productos más populares\",\n",
    "                   alpha=1, figsize=[15, 6], xlabel=\"Nombre del producto\", ylabel=\"Cantidad del producto\", rot=75)\n",
    "plt.show()"
   ]
  },
  {
   "cell_type": "markdown",
   "id": "7df00f47",
   "metadata": {
    "id": "7df00f47"
   },
   "source": [
    "En su mayoría los clientes piden productos orgánicos, sobretodo productos vegetales."
   ]
  },
  {
   "cell_type": "markdown",
   "id": "romantic-deposit",
   "metadata": {
    "id": "romantic-deposit"
   },
   "source": [
    "### ¿Cuántos artículos compran normalmente las personas en un pedido? ¿Cómo es la distribución?"
   ]
  },
  {
   "cell_type": "code",
   "execution_count": 76,
   "id": "virtual-punch",
   "metadata": {
    "id": "virtual-punch"
   },
   "outputs": [
    {
     "data": {
      "text/plain": [
       "order_id\n",
       "4          13\n",
       "9          15\n",
       "11          5\n",
       "19          3\n",
       "20          8\n",
       "           ..\n",
       "3421034    17\n",
       "3421053     9\n",
       "3421071     5\n",
       "3421077     4\n",
       "3421079     1\n",
       "Name: product_id, Length: 450046, dtype: int64"
      ]
     },
     "metadata": {},
     "output_type": "display_data"
    },
    {
     "data": {
      "text/html": [
       "<div>\n",
       "<style scoped>\n",
       "    .dataframe tbody tr th:only-of-type {\n",
       "        vertical-align: middle;\n",
       "    }\n",
       "\n",
       "    .dataframe tbody tr th {\n",
       "        vertical-align: top;\n",
       "    }\n",
       "\n",
       "    .dataframe thead th {\n",
       "        text-align: right;\n",
       "    }\n",
       "</style>\n",
       "<table border=\"1\" class=\"dataframe\">\n",
       "  <thead>\n",
       "    <tr style=\"text-align: right;\">\n",
       "      <th></th>\n",
       "      <th>num_objects_per_order</th>\n",
       "      <th>frequency</th>\n",
       "    </tr>\n",
       "  </thead>\n",
       "  <tbody>\n",
       "    <tr>\n",
       "      <th>0</th>\n",
       "      <td>1</td>\n",
       "      <td>21847</td>\n",
       "    </tr>\n",
       "    <tr>\n",
       "      <th>1</th>\n",
       "      <td>2</td>\n",
       "      <td>26292</td>\n",
       "    </tr>\n",
       "    <tr>\n",
       "      <th>2</th>\n",
       "      <td>3</td>\n",
       "      <td>29046</td>\n",
       "    </tr>\n",
       "    <tr>\n",
       "      <th>3</th>\n",
       "      <td>4</td>\n",
       "      <td>31054</td>\n",
       "    </tr>\n",
       "    <tr>\n",
       "      <th>4</th>\n",
       "      <td>5</td>\n",
       "      <td>31923</td>\n",
       "    </tr>\n",
       "    <tr>\n",
       "      <th>...</th>\n",
       "      <td>...</td>\n",
       "      <td>...</td>\n",
       "    </tr>\n",
       "    <tr>\n",
       "      <th>85</th>\n",
       "      <td>98</td>\n",
       "      <td>1</td>\n",
       "    </tr>\n",
       "    <tr>\n",
       "      <th>86</th>\n",
       "      <td>104</td>\n",
       "      <td>1</td>\n",
       "    </tr>\n",
       "    <tr>\n",
       "      <th>87</th>\n",
       "      <td>108</td>\n",
       "      <td>1</td>\n",
       "    </tr>\n",
       "    <tr>\n",
       "      <th>88</th>\n",
       "      <td>115</td>\n",
       "      <td>1</td>\n",
       "    </tr>\n",
       "    <tr>\n",
       "      <th>89</th>\n",
       "      <td>127</td>\n",
       "      <td>1</td>\n",
       "    </tr>\n",
       "  </tbody>\n",
       "</table>\n",
       "<p>90 rows × 2 columns</p>\n",
       "</div>"
      ],
      "text/plain": [
       "    num_objects_per_order  frequency\n",
       "0                       1      21847\n",
       "1                       2      26292\n",
       "2                       3      29046\n",
       "3                       4      31054\n",
       "4                       5      31923\n",
       "..                    ...        ...\n",
       "85                     98          1\n",
       "86                    104          1\n",
       "87                    108          1\n",
       "88                    115          1\n",
       "89                    127          1\n",
       "\n",
       "[90 rows x 2 columns]"
      ]
     },
     "metadata": {},
     "output_type": "display_data"
    },
    {
     "data": {
      "text/plain": [
       "47.21111111111111"
      ]
     },
     "metadata": {},
     "output_type": "display_data"
    }
   ],
   "source": [
    "prod_per_order = order_prod.groupby(\"order_id\")[\"product_id\"].count()\n",
    "prod_per_order_value_counts = prod_per_order.value_counts().sort_index().reset_index()\n",
    "prod_per_order_value_counts.columns = ['num_objects_per_order', 'frequency']\n",
    "prod_per_order_mean = prod_per_order_value_counts[\"num_objects_per_order\"].mean(\n",
    ")\n",
    "\n",
    "display(prod_per_order)\n",
    "display(prod_per_order_value_counts)\n",
    "display(prod_per_order_mean)"
   ]
  },
  {
   "cell_type": "code",
   "execution_count": 77,
   "id": "completed-frank",
   "metadata": {
    "id": "completed-frank"
   },
   "outputs": [
    {
     "data": {
      "image/png": "[encoded data removed]",
      "text/plain": [
       "<Figure size 1512x432 with 1 Axes>"
      ]
     },
     "metadata": {
      "needs_background": "light"
     },
     "output_type": "display_data"
    }
   ],
   "source": [
    "prod_per_order_value_counts.plot(kind='bar', x=\"num_objects_per_order\", y=\"frequency\",\n",
    "                                 title=\"Distribución de productos por pedido\", rot=45, legend=False,\n",
    "                                 figsize=[21, 6], xlabel=\"Cantidad de productos\", ylabel=\"Pedidos\")\n",
    "plt.show()"
   ]
  },
  {
   "cell_type": "markdown",
   "id": "designed-mortality",
   "metadata": {
    "id": "designed-mortality"
   },
   "source": [
    "El promedio de las órdenes tiene 47 productos. Sin embargo, este resultado está sesgado, debido a los valores atípicos, como el único pedido que tiene hasta 127 productos. En su mayoría, los clientes eligen entre 4-7 productos por pedido. "
   ]
  },
  {
   "cell_type": "markdown",
   "id": "5e6b5537",
   "metadata": {
    "id": "5e6b5537"
   },
   "source": [
    "### ¿Cuáles son los 20 principales artículos que vuelven a pedirse con mayor frecuencia (mostrando sus nombres e IDs de los productos)?"
   ]
  },
  {
   "cell_type": "code",
   "execution_count": 50,
   "id": "9374e55a",
   "metadata": {
    "id": "9374e55a"
   },
   "outputs": [
    {
     "name": "stdout",
     "output_type": "stream",
     "text": [
      "    product_id  quantity\n",
      "0        24852     55763\n",
      "1        13176     44450\n",
      "2        21137     28639\n",
      "3        21903     26233\n",
      "4        47209     23629\n",
      "5        47766     18743\n",
      "6        27845     16251\n",
      "7        47626     15044\n",
      "8        27966     14748\n",
      "9        16797     13945\n",
      "10       26209     13327\n",
      "11       22935     11145\n",
      "12       24964     10411\n",
      "13       45007     10076\n",
      "14       49683      9538\n",
      "15       28204      8989\n",
      "16        8277      8836\n",
      "17       39275      8799\n",
      "18        5876      8412\n",
      "19       49235      8389\n"
     ]
    }
   ],
   "source": [
    "popular_product_freq = order_prod[(order_prod[\"reordered\"] == 1)][[\n",
    "    \"product_id\"]].value_counts().reset_index().iloc[0:20, :]\n",
    "popular_product_freq.columns = ['product_id', 'quantity']\n",
    "\n",
    "print(popular_product_freq.head(25))  # Se verifica el tamaño del dataframe"
   ]
  },
  {
   "cell_type": "code",
   "execution_count": 51,
   "id": "possible-change",
   "metadata": {
    "id": "possible-change",
    "scrolled": true
   },
   "outputs": [],
   "source": [
    "produ_name = prod[[\"product_id\", \"product_name\"]]"
   ]
  },
  {
   "cell_type": "code",
   "execution_count": 52,
   "id": "professional-surfing",
   "metadata": {
    "id": "professional-surfing",
    "scrolled": false
   },
   "outputs": [
    {
     "data": {
      "image/png": "[encoded data removed]",
      "text/plain": [
       "<Figure size 1080x432 with 1 Axes>"
      ]
     },
     "metadata": {
      "needs_background": "light"
     },
     "output_type": "display_data"
    }
   ],
   "source": [
    "pop_prod_freq_named = popular_product_freq.merge(\n",
    "    produ_name, on=\"product_id\", how=\"left\")\n",
    "pop_prod_freq_named.plot(x='product_name', y='quantity', kind='bar',\n",
    "                         title=\"Los 20 productos más populares que se vuelven a pedir\",\n",
    "                         alpha=1, figsize=[15, 6], xlabel=\"Nombre del producto\", ylabel=\"Cantidad del producto\", rot=75)\n",
    "plt.show()"
   ]
  },
  {
   "cell_type": "markdown",
   "id": "80e70c74",
   "metadata": {
    "id": "80e70c74"
   },
   "source": [
    "En su mayoría los clientes piden de nuevo productos orgánicos. Los productos son similares a los 20 más populares aunque con ligeras diferencias en el ranking."
   ]
  },
  {
   "cell_type": "markdown",
   "id": "9d312b14",
   "metadata": {
    "id": "9d312b14"
   },
   "source": [
    "### Para cada producto, ¿cuál es la proporción de las veces que se pide y que se vuelve a pedir?"
   ]
  },
  {
   "cell_type": "code",
   "execution_count": 53,
   "id": "8ae9f4b1",
   "metadata": {
    "id": "8ae9f4b1"
   },
   "outputs": [],
   "source": [
    "# Primero arreglamos los datos del dataframe donde tenemos el ID del producto y\n",
    "# si se ha pedido de nuevo dicho producto o no, para contabilizar el total de pedidos de los productos\n",
    "total_prod = order_prod[[\"product_id\"]].value_counts().reset_index()\n",
    "total_prod.columns = ['product_id', 'total_quantity']\n",
    "\n",
    "# Segundo, arreglamos los datos del dataframe donde tenemos el ID del producto y lo filtramos con los productos\n",
    "# que se han pedido anteriormente.\n",
    "order_prod_again = order_prod[(order_prod[\"reordered\"] == 1)][[\n",
    "    \"product_id\"]].value_counts().reset_index()\n",
    "order_prod_again.columns = ['product_id', 'quantity_reordered']"
   ]
  },
  {
   "cell_type": "code",
   "execution_count": 54,
   "id": "103e7fe1",
   "metadata": {
    "id": "103e7fe1"
   },
   "outputs": [],
   "source": [
    "# Tercero, unimos los datos de ambos dataframes usando el ID del producto como columna en común.\n",
    "order_prod_proportion = total_prod.merge(\n",
    "    order_prod_again, on=\"product_id\", how=\"left\")\n",
    "\n",
    "# Cuarto, unimos los datos del anterior dataframe con los del dataframe que tiene el nombre de los productos\n",
    "# de acuerdo a el ID de los mismos. Usaamos el ID del producto como columna en común.\n",
    "# Todos los \"NA\" fueron reemplazados con cero.\n",
    "produ_name = prod[[\"product_id\", \"product_name\"]]\n",
    "order_prod_proportion_names = order_prod_proportion.merge(\n",
    "    produ_name, on=\"product_id\", how=\"left\").fillna(0)"
   ]
  },
  {
   "cell_type": "code",
   "execution_count": 55,
   "id": "aaaf2323",
   "metadata": {
    "id": "social-individual"
   },
   "outputs": [
    {
     "data": {
      "text/html": [
       "<div>\n",
       "<style scoped>\n",
       "    .dataframe tbody tr th:only-of-type {\n",
       "        vertical-align: middle;\n",
       "    }\n",
       "\n",
       "    .dataframe tbody tr th {\n",
       "        vertical-align: top;\n",
       "    }\n",
       "\n",
       "    .dataframe thead th {\n",
       "        text-align: right;\n",
       "    }\n",
       "</style>\n",
       "<table border=\"1\" class=\"dataframe\">\n",
       "  <thead>\n",
       "    <tr style=\"text-align: right;\">\n",
       "      <th></th>\n",
       "      <th>product_id</th>\n",
       "      <th>total_quantity</th>\n",
       "      <th>quantity_reordered</th>\n",
       "      <th>product_name</th>\n",
       "      <th>proportion_of_reordered</th>\n",
       "    </tr>\n",
       "  </thead>\n",
       "  <tbody>\n",
       "    <tr>\n",
       "      <th>0</th>\n",
       "      <td>24852</td>\n",
       "      <td>66050</td>\n",
       "      <td>55763.0</td>\n",
       "      <td>BANANA</td>\n",
       "      <td>0.844254</td>\n",
       "    </tr>\n",
       "    <tr>\n",
       "      <th>1</th>\n",
       "      <td>13176</td>\n",
       "      <td>53297</td>\n",
       "      <td>44450.0</td>\n",
       "      <td>BAG OF ORGANIC BANANAS</td>\n",
       "      <td>0.834006</td>\n",
       "    </tr>\n",
       "    <tr>\n",
       "      <th>2</th>\n",
       "      <td>21137</td>\n",
       "      <td>37039</td>\n",
       "      <td>28639.0</td>\n",
       "      <td>ORGANIC STRAWBERRIES</td>\n",
       "      <td>0.773212</td>\n",
       "    </tr>\n",
       "    <tr>\n",
       "      <th>3</th>\n",
       "      <td>21903</td>\n",
       "      <td>33971</td>\n",
       "      <td>26233.0</td>\n",
       "      <td>ORGANIC BABY SPINACH</td>\n",
       "      <td>0.772217</td>\n",
       "    </tr>\n",
       "    <tr>\n",
       "      <th>4</th>\n",
       "      <td>47209</td>\n",
       "      <td>29773</td>\n",
       "      <td>23629.0</td>\n",
       "      <td>ORGANIC HASS AVOCADO</td>\n",
       "      <td>0.793639</td>\n",
       "    </tr>\n",
       "    <tr>\n",
       "      <th>...</th>\n",
       "      <td>...</td>\n",
       "      <td>...</td>\n",
       "      <td>...</td>\n",
       "      <td>...</td>\n",
       "      <td>...</td>\n",
       "    </tr>\n",
       "    <tr>\n",
       "      <th>45568</th>\n",
       "      <td>5836</td>\n",
       "      <td>1</td>\n",
       "      <td>1.0</td>\n",
       "      <td>ARCTIC D COD LIVER OIL LEMON</td>\n",
       "      <td>1.000000</td>\n",
       "    </tr>\n",
       "    <tr>\n",
       "      <th>45569</th>\n",
       "      <td>43573</td>\n",
       "      <td>1</td>\n",
       "      <td>0.0</td>\n",
       "      <td>WHISK- 10 INCH</td>\n",
       "      <td>0.000000</td>\n",
       "    </tr>\n",
       "    <tr>\n",
       "      <th>45570</th>\n",
       "      <td>43570</td>\n",
       "      <td>1</td>\n",
       "      <td>0.0</td>\n",
       "      <td>QUESO COTIJA</td>\n",
       "      <td>0.000000</td>\n",
       "    </tr>\n",
       "    <tr>\n",
       "      <th>45571</th>\n",
       "      <td>36174</td>\n",
       "      <td>1</td>\n",
       "      <td>0.0</td>\n",
       "      <td>WHOLE PINTO BEANS</td>\n",
       "      <td>0.000000</td>\n",
       "    </tr>\n",
       "    <tr>\n",
       "      <th>45572</th>\n",
       "      <td>41403</td>\n",
       "      <td>1</td>\n",
       "      <td>0.0</td>\n",
       "      <td>EXTRA RICH &amp; THICK SPAGHETTI SAUCE SPICES &amp; SE...</td>\n",
       "      <td>0.000000</td>\n",
       "    </tr>\n",
       "  </tbody>\n",
       "</table>\n",
       "<p>45573 rows × 5 columns</p>\n",
       "</div>"
      ],
      "text/plain": [
       "       product_id  total_quantity  quantity_reordered  \\\n",
       "0           24852           66050             55763.0   \n",
       "1           13176           53297             44450.0   \n",
       "2           21137           37039             28639.0   \n",
       "3           21903           33971             26233.0   \n",
       "4           47209           29773             23629.0   \n",
       "...           ...             ...                 ...   \n",
       "45568        5836               1                 1.0   \n",
       "45569       43573               1                 0.0   \n",
       "45570       43570               1                 0.0   \n",
       "45571       36174               1                 0.0   \n",
       "45572       41403               1                 0.0   \n",
       "\n",
       "                                            product_name  \\\n",
       "0                                                 BANANA   \n",
       "1                                 BAG OF ORGANIC BANANAS   \n",
       "2                                   ORGANIC STRAWBERRIES   \n",
       "3                                   ORGANIC BABY SPINACH   \n",
       "4                                   ORGANIC HASS AVOCADO   \n",
       "...                                                  ...   \n",
       "45568                       ARCTIC D COD LIVER OIL LEMON   \n",
       "45569                                     WHISK- 10 INCH   \n",
       "45570                                       QUESO COTIJA   \n",
       "45571                                  WHOLE PINTO BEANS   \n",
       "45572  EXTRA RICH & THICK SPAGHETTI SAUCE SPICES & SE...   \n",
       "\n",
       "       proportion_of_reordered  \n",
       "0                     0.844254  \n",
       "1                     0.834006  \n",
       "2                     0.773212  \n",
       "3                     0.772217  \n",
       "4                     0.793639  \n",
       "...                        ...  \n",
       "45568                 1.000000  \n",
       "45569                 0.000000  \n",
       "45570                 0.000000  \n",
       "45571                 0.000000  \n",
       "45572                 0.000000  \n",
       "\n",
       "[45573 rows x 5 columns]"
      ]
     },
     "metadata": {},
     "output_type": "display_data"
    }
   ],
   "source": [
    "# Quinto, se  hizo una nueva columna para la tasa de repetición del pedido.\n",
    "order_prod_proportion_names[\"proportion_of_reordered\"] = order_prod_proportion_names[\"quantity_reordered\"] / \\\n",
    "    order_prod_proportion_names[\"total_quantity\"]\n",
    "display(order_prod_proportion_names)"
   ]
  },
  {
   "cell_type": "markdown",
   "id": "I10dEIAyldcO",
   "metadata": {
    "id": "I10dEIAyldcO"
   },
   "source": [
    "Obtuvimos un dataframe con una columna que muestra la tasa del re-ordenado de cada producto. En el dataframe se muestran el id del producto, el nombre del producto y la tasa de repetición del pedido."
   ]
  },
  {
   "cell_type": "markdown",
   "id": "subject-boxing",
   "metadata": {
    "id": "subject-boxing"
   },
   "source": [
    "### Para cada cliente, ¿qué proporción de sus productos ya los había pedido?"
   ]
  },
  {
   "cell_type": "code",
   "execution_count": 56,
   "id": "medical-couple",
   "metadata": {
    "id": "medical-couple",
    "scrolled": false
   },
   "outputs": [
    {
     "data": {
      "text/html": [
       "<div>\n",
       "<style scoped>\n",
       "    .dataframe tbody tr th:only-of-type {\n",
       "        vertical-align: middle;\n",
       "    }\n",
       "\n",
       "    .dataframe tbody tr th {\n",
       "        vertical-align: top;\n",
       "    }\n",
       "\n",
       "    .dataframe thead th {\n",
       "        text-align: right;\n",
       "    }\n",
       "</style>\n",
       "<table border=\"1\" class=\"dataframe\">\n",
       "  <thead>\n",
       "    <tr style=\"text-align: right;\">\n",
       "      <th></th>\n",
       "      <th>order_id</th>\n",
       "      <th>product_id</th>\n",
       "      <th>add_to_cart_order</th>\n",
       "      <th>reordered</th>\n",
       "      <th>user_id</th>\n",
       "      <th>order_number</th>\n",
       "      <th>order_dow</th>\n",
       "      <th>order_hour_of_day</th>\n",
       "      <th>days_since_prior_order</th>\n",
       "    </tr>\n",
       "  </thead>\n",
       "  <tbody>\n",
       "    <tr>\n",
       "      <th>0</th>\n",
       "      <td>2141543</td>\n",
       "      <td>11440</td>\n",
       "      <td>17</td>\n",
       "      <td>0</td>\n",
       "      <td>58454</td>\n",
       "      <td>25</td>\n",
       "      <td>0</td>\n",
       "      <td>15</td>\n",
       "      <td>8.0</td>\n",
       "    </tr>\n",
       "    <tr>\n",
       "      <th>1</th>\n",
       "      <td>567889</td>\n",
       "      <td>1560</td>\n",
       "      <td>1</td>\n",
       "      <td>1</td>\n",
       "      <td>129474</td>\n",
       "      <td>16</td>\n",
       "      <td>1</td>\n",
       "      <td>13</td>\n",
       "      <td>14.0</td>\n",
       "    </tr>\n",
       "    <tr>\n",
       "      <th>2</th>\n",
       "      <td>2261212</td>\n",
       "      <td>26683</td>\n",
       "      <td>1</td>\n",
       "      <td>1</td>\n",
       "      <td>47476</td>\n",
       "      <td>5</td>\n",
       "      <td>6</td>\n",
       "      <td>9</td>\n",
       "      <td>13.0</td>\n",
       "    </tr>\n",
       "    <tr>\n",
       "      <th>3</th>\n",
       "      <td>491251</td>\n",
       "      <td>8670</td>\n",
       "      <td>35</td>\n",
       "      <td>1</td>\n",
       "      <td>134505</td>\n",
       "      <td>27</td>\n",
       "      <td>6</td>\n",
       "      <td>13</td>\n",
       "      <td>9.0</td>\n",
       "    </tr>\n",
       "    <tr>\n",
       "      <th>4</th>\n",
       "      <td>2571142</td>\n",
       "      <td>1940</td>\n",
       "      <td>5</td>\n",
       "      <td>1</td>\n",
       "      <td>155995</td>\n",
       "      <td>22</td>\n",
       "      <td>5</td>\n",
       "      <td>13</td>\n",
       "      <td>5.0</td>\n",
       "    </tr>\n",
       "  </tbody>\n",
       "</table>\n",
       "</div>"
      ],
      "text/plain": [
       "   order_id  product_id  add_to_cart_order  reordered  user_id  order_number  \\\n",
       "0   2141543       11440                 17          0    58454            25   \n",
       "1    567889        1560                  1          1   129474            16   \n",
       "2   2261212       26683                  1          1    47476             5   \n",
       "3    491251        8670                 35          1   134505            27   \n",
       "4   2571142        1940                  5          1   155995            22   \n",
       "\n",
       "   order_dow  order_hour_of_day  days_since_prior_order  \n",
       "0          0                 15                     8.0  \n",
       "1          1                 13                    14.0  \n",
       "2          6                  9                    13.0  \n",
       "3          6                 13                     9.0  \n",
       "4          5                 13                     5.0  "
      ]
     },
     "execution_count": 56,
     "metadata": {},
     "output_type": "execute_result"
    }
   ],
   "source": [
    "# Primero fusionaremos los dataframes de instacart_orders con el de order_products, usando order_id como columna en común.\n",
    "user_order_prod_merger = order_prod.merge(insta_ord, on=\"order_id\", how=\"left\")\n",
    "# Verificamos que la fusión sea correcta.\n",
    "user_order_prod_merger.head()"
   ]
  },
  {
   "cell_type": "code",
   "execution_count": 57,
   "id": "8892e4b4",
   "metadata": {
    "id": "8892e4b4",
    "scrolled": true
   },
   "outputs": [
    {
     "data": {
      "text/plain": [
       "user_id\n",
       "2         0.038462\n",
       "4         0.000000\n",
       "5         0.666667\n",
       "6         0.000000\n",
       "7         0.928571\n",
       "            ...   \n",
       "206203    0.222222\n",
       "206206    0.714286\n",
       "206207    0.891304\n",
       "206208    0.696000\n",
       "206209    0.320000\n",
       "Name: reordered, Length: 149626, dtype: float64"
      ]
     },
     "execution_count": 57,
     "metadata": {},
     "output_type": "execute_result"
    }
   ],
   "source": [
    "# Luego, agrupamos los datos usando la columna user_id, usando el promedio de los valores de reordered.\n",
    "groupby_data = user_order_prod_merger.groupby('user_id')['reordered'].mean()\n",
    "# Observamos los resultados, obteniendo un objeto series con la tasa de repeticion de pedido para cada usuario,\n",
    "# de acuerdo a su user_id.\n",
    "groupby_data"
   ]
  },
  {
   "cell_type": "markdown",
   "id": "BgJSvXDsleXz",
   "metadata": {
    "id": "BgJSvXDsleXz"
   },
   "source": [
    "Obtuvimos un objeto series que muestra muestra la tasa del re-ordenado los pedidos de los clientes."
   ]
  },
  {
   "cell_type": "markdown",
   "id": "92d35137",
   "metadata": {
    "id": "92d35137"
   },
   "source": [
    "### ¿Cuáles son los 20 principales artículos que las personas ponen primero en sus carritos?"
   ]
  },
  {
   "cell_type": "code",
   "execution_count": 58,
   "id": "0ae57274",
   "metadata": {
    "id": "0ae57274",
    "scrolled": false
   },
   "outputs": [
    {
     "name": "stdout",
     "output_type": "stream",
     "text": [
      "        product_id                                       product_name  \\\n",
      "0             1560                                         BAG OF ICE   \n",
      "1            26683  CAFE LATTE PURE LIGHTLY SWEETENED ICED COFFEE ...   \n",
      "2            37553                          ICED COFFEE LIGHTLY SWEET   \n",
      "3            10017                                      TILAPIA FILET   \n",
      "4             8518                                  ORGANIC RED ONION   \n",
      "...            ...                                                ...   \n",
      "450041       46175                              HALF BAKED® ICE CREAM   \n",
      "450042       20842                              TOTAL 0% GREEK YOGURT   \n",
      "450043       28576                              VANILLA BEAN CHIA POD   \n",
      "450044       10017                                      TILAPIA FILET   \n",
      "450045       24852                                             BANANA   \n",
      "\n",
      "        order_id  add_to_cart_order  reordered  \n",
      "0         567889                  1          1  \n",
      "1        2261212                  1          1  \n",
      "2        1961225                  1          1  \n",
      "3         639939                  1          1  \n",
      "4         750040                  1          0  \n",
      "...          ...                ...        ...  \n",
      "450041   1759009                  1          0  \n",
      "450042    115427                  1          1  \n",
      "450043   2049780                  1          1  \n",
      "450044   2300092                  1          0  \n",
      "450045   1622300                  1          1  \n",
      "\n",
      "[450046 rows x 5 columns]\n",
      "<class 'pandas.core.frame.DataFrame'>\n",
      "Int64Index: 450046 entries, 0 to 450045\n",
      "Data columns (total 5 columns):\n",
      " #   Column             Non-Null Count   Dtype \n",
      "---  ------             --------------   ----- \n",
      " 0   product_id         450046 non-null  int64 \n",
      " 1   product_name       450046 non-null  object\n",
      " 2   order_id           450046 non-null  int64 \n",
      " 3   add_to_cart_order  450046 non-null  int64 \n",
      " 4   reordered          450046 non-null  int64 \n",
      "dtypes: int64(4), object(1)\n",
      "memory usage: 20.6+ MB\n"
     ]
    }
   ],
   "source": [
    "# Primero fusionaremos los dataframes de order_products con el de produ_name (anteriormente creado), usando product_id como columna en común.\n",
    "prod_merger = produ_name.merge(\n",
    "    order_prod[order_prod[\"add_to_cart_order\"] == 1], on=\"product_id\", how=\"right\")\n",
    "print(prod_merger)\n",
    "prod_merger.info()"
   ]
  },
  {
   "cell_type": "code",
   "execution_count": 59,
   "id": "forty-netherlands",
   "metadata": {
    "id": "forty-netherlands",
    "scrolled": false
   },
   "outputs": [
    {
     "name": "stdout",
     "output_type": "stream",
     "text": [
      "                          index  product_name\n",
      "0                        BANANA         15562\n",
      "1        BAG OF ORGANIC BANANAS         11026\n",
      "2            ORGANIC WHOLE MILK          4363\n",
      "3          ORGANIC STRAWBERRIES          3946\n",
      "4          ORGANIC HASS AVOCADO          3390\n",
      "5          ORGANIC BABY SPINACH          3336\n",
      "6               ORGANIC AVOCADO          3044\n",
      "7                  SPRING WATER          2336\n",
      "8                  STRAWBERRIES          2308\n",
      "9           ORGANIC RASPBERRIES          2024\n",
      "10   SPARKLING WATER GRAPEFRUIT          1914\n",
      "11          ORGANIC HALF & HALF          1797\n",
      "12                  LARGE LEMON          1737\n",
      "13                         SODA          1733\n",
      "14     ORGANIC REDUCED FAT MILK          1397\n",
      "15                        LIMES          1370\n",
      "16                HASS AVOCADOS          1340\n",
      "17  ORGANIC REDUCED FAT 2% MILK          1310\n",
      "18                  HALF & HALF          1309\n",
      "19                  RASPBERRIES          1246\n"
     ]
    }
   ],
   "source": [
    "print(prod_merger[\"product_name\"].value_counts().reset_index().head(20))"
   ]
  },
  {
   "cell_type": "markdown",
   "id": "28ce9872",
   "metadata": {
    "id": "28ce9872"
   },
   "source": [
    "El listado de los 20 principales artículos que la gente pone en su carrito es muy similar al de los productos populares. La mayoría son orgánicos. Podría ser que estos son los primeros productos que ven en la aplicación y por lo tanto, son los primeros que son guardados. O tambien podría ser que la aplicación es más popular en el estrato socioeconómico que puede adquirir y preocuparse de que sus alimentos son orgánicos."
   ]
  },
  {
   "cell_type": "markdown",
   "id": "uITbFCEoDosC",
   "metadata": {
    "id": "uITbFCEoDosC"
   },
   "source": [
    "### Conclusion general del proyecto:"
   ]
  },
  {
   "cell_type": "markdown",
   "id": "af02ad4e",
   "metadata": {
    "id": "Nk-4GS7mDwqY"
   },
   "source": [
    "La aplicación es usualmente usada durante el día y entre el domingo y el lunes. \n",
    "Las compras semanales se mantienen en una importante cantidad de clientes, \n",
    "aunque la gran mayoría de las personas no hacen más que unas pocos pedidos. Pocos mantienen como habito el seguir pidiendo.\n",
    "La gran mayoría de los pedidos tiene alrededor de 4-7 productos por pedido. \n",
    "La aplicación instacart tiene mayores ventas en los productos orgánicos. Los platanos resultaron el producto estrella lo cual tiene sentido, siendo la comida rápida biodegradable por excelencia."
   ]
  },
  {
   "cell_type": "code",
   "execution_count": null,
   "id": "e94ee00f",
   "metadata": {},
   "outputs": [],
   "source": []
  }
 ],
 "metadata": {
  "colab": {
   "provenance": []
  },
  "kernelspec": {
   "display_name": "Python 3 (ipykernel)",
   "language": "python",
   "name": "python3"
  },
  "language_info": {
   "codemirror_mode": {
    "name": "ipython",
    "version": 3
   },
   "file_extension": ".py",
   "mimetype": "text/x-python",
   "name": "python",
   "nbconvert_exporter": "python",
   "pygments_lexer": "ipython3",
   "version": "3.9.19"
  },
  "toc": {
   "base_numbering": 1,
   "nav_menu": {},
   "number_sections": true,
   "sideBar": true,
   "skip_h1_title": true,
   "title_cell": "Table of Contents",
   "title_sidebar": "Contents",
   "toc_cell": false,
   "toc_position": {
    "height": "calc(100% - 180px)",
    "left": "10px",
    "top": "150px",
    "width": "291.2px"
   },
   "toc_section_display": true,
   "toc_window_display": true
  },
  "vscode": {
   "interpreter": {
    "hash": "01a7be9ec63e704a62cefc5fe7a4756944464ee731be31632bdf42a4cb4688cf"
   }
  }
 },
 "nbformat": 4,
 "nbformat_minor": 5
}
